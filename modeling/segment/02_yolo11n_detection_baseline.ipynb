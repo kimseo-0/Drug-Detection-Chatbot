{
 "cells": [
  {
   "cell_type": "markdown",
   "id": "3b6fdc2f",
   "metadata": {},
   "source": [
    "# 데이터셋 불러오기"
   ]
  },
  {
   "cell_type": "code",
   "execution_count": 23,
   "id": "3d301d01",
   "metadata": {},
   "outputs": [],
   "source": [
    "from dotenv import load_dotenv\n",
    "import os\n",
    "\n",
    "load_dotenv()\n",
    "\n",
    "ROBOFLOW_API_KEY = os.environ.get('ROBOFLOW_API_KEY')"
   ]
  },
  {
   "cell_type": "code",
   "execution_count": 2,
   "id": "ddcd6d58",
   "metadata": {},
   "outputs": [
    {
     "name": "stdout",
     "output_type": "stream",
     "text": [
      "loading Roboflow workspace...\n",
      "loading Roboflow project...\n"
     ]
    },
    {
     "name": "stderr",
     "output_type": "stream",
     "text": [
      "Downloading Dataset Version Zip in drug-detect-2-1 to yolov11:: 100%|██████████| 1114079/1114079 [00:56<00:00, 19893.35it/s]"
     ]
    },
    {
     "name": "stdout",
     "output_type": "stream",
     "text": [
      "\n"
     ]
    },
    {
     "name": "stderr",
     "output_type": "stream",
     "text": [
      "\n",
      "Extracting Dataset Version Zip to drug-detect-2-1 in yolov11:: 100%|██████████| 2298/2298 [00:01<00:00, 1201.85it/s]\n"
     ]
    }
   ],
   "source": [
    "from roboflow import Roboflow\n",
    "\n",
    "rf = Roboflow(api_key=ROBOFLOW_API_KEY)\n",
    "project = rf.workspace(\"hayley-kim-6vkvh\").project(\"drug-detect-2-ssykt\")\n",
    "version = project.version(1)\n",
    "dataset = version.download(\"yolov11\")"
   ]
  },
  {
   "cell_type": "code",
   "execution_count": 24,
   "id": "38e00869",
   "metadata": {},
   "outputs": [
    {
     "name": "stdout",
     "output_type": "stream",
     "text": [
      "loading Roboflow workspace...\n",
      "loading Roboflow project...\n"
     ]
    },
    {
     "name": "stderr",
     "output_type": "stream",
     "text": [
      "Downloading Dataset Version Zip in drug-detect-1 to yolov11:: 100%|██████████| 1200233/1200233 [00:57<00:00, 20967.04it/s]"
     ]
    },
    {
     "name": "stdout",
     "output_type": "stream",
     "text": [
      "\n"
     ]
    },
    {
     "name": "stderr",
     "output_type": "stream",
     "text": [
      "\n",
      "Extracting Dataset Version Zip to drug-detect-1 in yolov11:: 100%|██████████| 4162/4162 [00:05<00:00, 790.35it/s] \n"
     ]
    }
   ],
   "source": [
    "from roboflow import Roboflow\n",
    "\n",
    "rf = Roboflow(api_key=ROBOFLOW_API_KEY)\n",
    "project = rf.workspace(\"hayley-kim-6vkvh\").project(\"drug-detect-cinr7\")\n",
    "version = project.version(1)\n",
    "dataset = version.download(\"yolov11\")"
   ]
  },
  {
   "cell_type": "markdown",
   "id": "a66fa4f9",
   "metadata": {},
   "source": [
    "# 모델 불러오기"
   ]
  },
  {
   "cell_type": "code",
   "execution_count": null,
   "id": "543f13a3",
   "metadata": {},
   "outputs": [],
   "source": [
    "from ultralytics import YOLO\n",
    "import torch\n",
    "\n",
    "model = YOLO(\"./models/yolo11n.pt\")"
   ]
  },
  {
   "cell_type": "code",
   "execution_count": 2,
   "id": "28d3e7f2",
   "metadata": {},
   "outputs": [
    {
     "name": "stdout",
     "output_type": "stream",
     "text": [
      "Using device: cuda\n"
     ]
    }
   ],
   "source": [
    "device = \"cuda\" if torch.cuda.is_available() else \"cpu\"\n",
    "print(f\"Using device: {device}\")"
   ]
  },
  {
   "cell_type": "code",
   "execution_count": 27,
   "id": "fafb6893",
   "metadata": {},
   "outputs": [
    {
     "name": "stdout",
     "output_type": "stream",
     "text": [
      "2.8.0+cu126\n",
      "12.6\n",
      "True\n"
     ]
    }
   ],
   "source": [
    "print(torch.__version__)\n",
    "print(torch.version.cuda)   # CUDA 빌드 버전\n",
    "print(torch.cuda.is_available())"
   ]
  },
  {
   "cell_type": "markdown",
   "id": "1efe3cf5",
   "metadata": {},
   "source": [
    "# 모델 학습하기"
   ]
  },
  {
   "cell_type": "code",
   "execution_count": 26,
   "id": "f109b016",
   "metadata": {},
   "outputs": [],
   "source": [
    "import os\n",
    "os.environ[\"ULTRALYTICS_TB\"] = \"1\"  # 텐서보드 로거 활성화"
   ]
  },
  {
   "cell_type": "code",
   "execution_count": 30,
   "id": "a88a9831",
   "metadata": {},
   "outputs": [],
   "source": [
    "PROJECT_NAME = \"drug-detect-1\""
   ]
  },
  {
   "cell_type": "code",
   "execution_count": null,
   "id": "62b4e217",
   "metadata": {},
   "outputs": [],
   "source": [
    "# 데이터셋 yaml 경로\n",
    "DATA_YAML_PATH = f\"./{PROJECT_NAME}/data.yaml\""
   ]
  },
  {
   "cell_type": "code",
   "execution_count": 31,
   "id": "c0cd9566",
   "metadata": {},
   "outputs": [
    {
     "name": "stdout",
     "output_type": "stream",
     "text": [
      "New https://pypi.org/project/ultralytics/8.3.200 available  Update with 'pip install -U ultralytics'\n",
      "Ultralytics 8.3.198  Python-3.10.18 torch-2.8.0+cu126 CUDA:0 (NVIDIA GeForce RTX 4070 Laptop GPU, 8188MiB)\n",
      "\u001b[34m\u001b[1mengine\\trainer: \u001b[0magnostic_nms=False, amp=True, augment=False, auto_augment=randaugment, batch=32, bgr=0.0, box=7.5, cache=False, cfg=None, classes=None, close_mosaic=10, cls=0.5, compile=False, conf=None, copy_paste=0.0, copy_paste_mode=flip, cos_lr=False, cutmix=0.0, data=./drug-detect-1/data.yaml, degrees=0.0, deterministic=True, device=0, dfl=1.5, dnn=False, dropout=0.0, dynamic=False, embed=None, epochs=50, erasing=0.4, exist_ok=False, fliplr=0.5, flipud=0.0, format=torchscript, fraction=1.0, freeze=None, half=False, hsv_h=0.015, hsv_s=0.7, hsv_v=0.4, imgsz=640, int8=False, iou=0.7, keras=False, kobj=1.0, line_width=None, lr0=0.01, lrf=0.01, mask_ratio=4, max_det=300, mixup=0.0, mode=train, model=C:\\Potenup\\Drug-Detection-Chatbot\\modeling\\segment\\runs\\drug-detect2\\weights\\best.pt, momentum=0.937, mosaic=1.0, multi_scale=False, name=train, nbs=64, nms=False, opset=None, optimize=False, optimizer=auto, overlap_mask=True, patience=100, perspective=0.0, plots=True, pose=12.0, pretrained=True, profile=False, project=runs/drug-detect-1, rect=False, resume=False, retina_masks=False, save=True, save_conf=False, save_crop=False, save_dir=C:\\Potenup\\Drug-Detection-Chatbot\\modeling\\segment\\runs\\drug-detect-1\\train, save_frames=False, save_json=False, save_period=10, save_txt=False, scale=0.5, seed=0, shear=0.0, show=False, show_boxes=True, show_conf=True, show_labels=True, simplify=True, single_cls=False, source=None, split=val, stream_buffer=False, task=detect, time=None, tracker=botsort.yaml, translate=0.1, val=True, verbose=True, vid_stride=1, visualize=False, warmup_bias_lr=0.1, warmup_epochs=3.0, warmup_momentum=0.8, weight_decay=0.0005, workers=8, workspace=None\n",
      "Overriding model.yaml nc=1 with nc=2\n",
      "\n",
      "                   from  n    params  module                                       arguments                     \n",
      "  0                  -1  1       464  ultralytics.nn.modules.conv.Conv             [3, 16, 3, 2]                 \n",
      "  1                  -1  1      4672  ultralytics.nn.modules.conv.Conv             [16, 32, 3, 2]                \n",
      "  2                  -1  1      6640  ultralytics.nn.modules.block.C3k2            [32, 64, 1, False, 0.25]      \n",
      "  3                  -1  1     36992  ultralytics.nn.modules.conv.Conv             [64, 64, 3, 2]                \n",
      "  4                  -1  1     26080  ultralytics.nn.modules.block.C3k2            [64, 128, 1, False, 0.25]     \n",
      "  5                  -1  1    147712  ultralytics.nn.modules.conv.Conv             [128, 128, 3, 2]              \n",
      "  6                  -1  1     87040  ultralytics.nn.modules.block.C3k2            [128, 128, 1, True]           \n",
      "  7                  -1  1    295424  ultralytics.nn.modules.conv.Conv             [128, 256, 3, 2]              \n",
      "  8                  -1  1    346112  ultralytics.nn.modules.block.C3k2            [256, 256, 1, True]           \n",
      "  9                  -1  1    164608  ultralytics.nn.modules.block.SPPF            [256, 256, 5]                 \n",
      " 10                  -1  1    249728  ultralytics.nn.modules.block.C2PSA           [256, 256, 1]                 \n",
      " 11                  -1  1         0  torch.nn.modules.upsampling.Upsample         [None, 2, 'nearest']          \n",
      " 12             [-1, 6]  1         0  ultralytics.nn.modules.conv.Concat           [1]                           \n",
      " 13                  -1  1    111296  ultralytics.nn.modules.block.C3k2            [384, 128, 1, False]          \n",
      " 14                  -1  1         0  torch.nn.modules.upsampling.Upsample         [None, 2, 'nearest']          \n",
      " 15             [-1, 4]  1         0  ultralytics.nn.modules.conv.Concat           [1]                           \n",
      " 16                  -1  1     32096  ultralytics.nn.modules.block.C3k2            [256, 64, 1, False]           \n",
      " 17                  -1  1     36992  ultralytics.nn.modules.conv.Conv             [64, 64, 3, 2]                \n",
      " 18            [-1, 13]  1         0  ultralytics.nn.modules.conv.Concat           [1]                           \n",
      " 19                  -1  1     86720  ultralytics.nn.modules.block.C3k2            [192, 128, 1, False]          \n",
      " 20                  -1  1    147712  ultralytics.nn.modules.conv.Conv             [128, 128, 3, 2]              \n",
      " 21            [-1, 10]  1         0  ultralytics.nn.modules.conv.Concat           [1]                           \n",
      " 22                  -1  1    378880  ultralytics.nn.modules.block.C3k2            [384, 256, 1, True]           \n",
      " 23        [16, 19, 22]  1    431062  ultralytics.nn.modules.head.Detect           [2, [64, 128, 256]]           \n",
      "YOLO11n summary: 181 layers, 2,590,230 parameters, 2,590,214 gradients, 6.4 GFLOPs\n",
      "\n",
      "Transferred 88/499 items from pretrained weights\n",
      "Freezing layer 'model.23.dfl.conv.weight'\n",
      "\u001b[34m\u001b[1mAMP: \u001b[0mrunning Automatic Mixed Precision (AMP) checks...\n",
      "\u001b[KDownloading https://github.com/ultralytics/assets/releases/download/v8.3.0/yolo11n.pt to 'yolo11n.pt': 100% ━━━━━━━━━━━━ 5.4MB 25.9MB/s 0.2s0.2s<0.0s\n",
      "\u001b[34m\u001b[1mAMP: \u001b[0mchecks passed \n",
      "\u001b[34m\u001b[1mtrain: \u001b[0mFast image access  (ping: 0.10.0 ms, read: 18.319.5 MB/s, size: 442.7 KB)\n",
      "\u001b[K\u001b[34m\u001b[1mtrain: \u001b[0mScanning C:\\Potenup\\Drug-Detection-Chatbot\\modeling\\segment\\drug-detect-1\\train\\labels... 1810 images, 1 backgrounds, 0 corrupt: 100% ━━━━━━━━━━━━ 1810/1810 326.5it/s 5.5s0.0s\n",
      "\u001b[34m\u001b[1mtrain: \u001b[0mNew cache created: C:\\Potenup\\Drug-Detection-Chatbot\\modeling\\segment\\drug-detect-1\\train\\labels.cache\n",
      "\u001b[34m\u001b[1mval: \u001b[0mFast image access  (ping: 0.10.0 ms, read: 76.125.4 MB/s, size: 1010.0 KB)\n",
      "\u001b[K\u001b[34m\u001b[1mval: \u001b[0mScanning C:\\Potenup\\Drug-Detection-Chatbot\\modeling\\segment\\drug-detect-1\\valid\\labels... 198 images, 0 backgrounds, 0 corrupt: 100% ━━━━━━━━━━━━ 198/198 295.7it/s 0.7s0.1s\n",
      "\u001b[34m\u001b[1mval: \u001b[0mNew cache created: C:\\Potenup\\Drug-Detection-Chatbot\\modeling\\segment\\drug-detect-1\\valid\\labels.cache\n",
      "Plotting labels to C:\\Potenup\\Drug-Detection-Chatbot\\modeling\\segment\\runs\\drug-detect-1\\train\\labels.jpg... \n",
      "\u001b[34m\u001b[1moptimizer:\u001b[0m 'optimizer=auto' found, ignoring 'lr0=0.01' and 'momentum=0.937' and determining best 'optimizer', 'lr0' and 'momentum' automatically... \n",
      "\u001b[34m\u001b[1moptimizer:\u001b[0m AdamW(lr=0.001667, momentum=0.9) with parameter groups 81 weight(decay=0.0), 88 weight(decay=0.0005), 87 bias(decay=0.0)\n",
      "Image sizes 640 train, 640 val\n",
      "Using 8 dataloader workers\n",
      "Logging results to \u001b[1mC:\\Potenup\\Drug-Detection-Chatbot\\modeling\\segment\\runs\\drug-detect-1\\train\u001b[0m\n",
      "Starting training for 50 epochs...\n",
      "\n",
      "      Epoch    GPU_mem   box_loss   cls_loss   dfl_loss  Instances       Size\n",
      "\u001b[K       1/50       5.5G      2.251       3.15      1.779        291        640: 100% ━━━━━━━━━━━━ 57/57 1.0it/s 57.7s0.7ss\n",
      "\u001b[K                 Class     Images  Instances      Box(P          R      mAP50  mAP50-95): 100% ━━━━━━━━━━━━ 4/4 1.8it/s 2.2s1.0s\n",
      "                   all        198       1661      0.288      0.182      0.143     0.0973\n",
      "\n",
      "      Epoch    GPU_mem   box_loss   cls_loss   dfl_loss  Instances       Size\n",
      "\u001b[K       2/50      5.31G      1.694      2.048      1.422         84        640: 100% ━━━━━━━━━━━━ 57/57 1.3it/s 42.4s1.3ss\n",
      "\u001b[K                 Class     Images  Instances      Box(P          R      mAP50  mAP50-95): 100% ━━━━━━━━━━━━ 4/4 0.8it/s 4.8s2.4ss\n",
      "                   all        198       1661      0.323       0.18      0.153      0.106\n",
      "\n",
      "      Epoch    GPU_mem   box_loss   cls_loss   dfl_loss  Instances       Size\n",
      "\u001b[K       3/50      5.31G      1.591      1.872      1.373        207        640: 100% ━━━━━━━━━━━━ 57/57 0.7it/s 1:241.2sss\n",
      "\u001b[K                 Class     Images  Instances      Box(P          R      mAP50  mAP50-95): 100% ━━━━━━━━━━━━ 4/4 0.8it/s 5.2s2.6ss\n",
      "                   all        198       1661      0.238      0.212      0.151      0.103\n",
      "\n",
      "      Epoch    GPU_mem   box_loss   cls_loss   dfl_loss  Instances       Size\n",
      "\u001b[K       4/50      5.35G      1.547      1.796      1.355        155        640: 100% ━━━━━━━━━━━━ 57/57 0.7it/s 1:231.3sss\n",
      "\u001b[K                 Class     Images  Instances      Box(P          R      mAP50  mAP50-95): 100% ━━━━━━━━━━━━ 4/4 0.9it/s 4.3s2.1ss\n",
      "                   all        198       1661      0.249      0.214      0.126     0.0794\n",
      "\n",
      "      Epoch    GPU_mem   box_loss   cls_loss   dfl_loss  Instances       Size\n",
      "\u001b[K       5/50         5G      1.509      1.735      1.338        162        640: 100% ━━━━━━━━━━━━ 57/57 0.4it/s 2:403.9sss\n",
      "\u001b[K                 Class     Images  Instances      Box(P          R      mAP50  mAP50-95): 100% ━━━━━━━━━━━━ 4/4 0.3it/s 14.0s7.0s\n",
      "                   all        198       1661      0.236      0.209      0.151      0.099\n",
      "\n",
      "      Epoch    GPU_mem   box_loss   cls_loss   dfl_loss  Instances       Size\n",
      "\u001b[K       6/50      5.12G      1.522      1.724      1.348        176        640: 100% ━━━━━━━━━━━━ 57/57 0.2it/s 4:464.2ss\n",
      "\u001b[K                 Class     Images  Instances      Box(P          R      mAP50  mAP50-95): 100% ━━━━━━━━━━━━ 4/4 0.3it/s 14.3s7.1s\n",
      "                   all        198       1661      0.287      0.181      0.149      0.105\n",
      "\n",
      "      Epoch    GPU_mem   box_loss   cls_loss   dfl_loss  Instances       Size\n",
      "\u001b[K       7/50      5.26G        1.5      1.687      1.351        159        640: 100% ━━━━━━━━━━━━ 57/57 0.2it/s 4:484.0ss\n",
      "\u001b[K                 Class     Images  Instances      Box(P          R      mAP50  mAP50-95): 100% ━━━━━━━━━━━━ 4/4 0.3it/s 14.3s7.1s\n",
      "                   all        198       1661      0.243      0.208      0.154      0.107\n",
      "\n",
      "      Epoch    GPU_mem   box_loss   cls_loss   dfl_loss  Instances       Size\n",
      "\u001b[K       8/50      5.44G      1.496      1.658      1.328        191        640: 100% ━━━━━━━━━━━━ 57/57 0.8it/s 1:150.4sss\n",
      "\u001b[K                 Class     Images  Instances      Box(P          R      mAP50  mAP50-95): 100% ━━━━━━━━━━━━ 4/4 1.6it/s 2.5s1.1s\n",
      "                   all        198       1661      0.418      0.155      0.159      0.117\n",
      "\n",
      "      Epoch    GPU_mem   box_loss   cls_loss   dfl_loss  Instances       Size\n",
      "\u001b[K       9/50      5.19G      1.412      1.613      1.298        147        640: 100% ━━━━━━━━━━━━ 57/57 1.6it/s 35.0s0.4ss\n",
      "\u001b[K                 Class     Images  Instances      Box(P          R      mAP50  mAP50-95): 100% ━━━━━━━━━━━━ 4/4 2.0it/s 2.0s1.0s\n",
      "                   all        198       1661      0.331       0.18      0.167      0.121\n",
      "\n",
      "      Epoch    GPU_mem   box_loss   cls_loss   dfl_loss  Instances       Size\n",
      "\u001b[K      10/50      5.16G      1.441       1.62      1.311        175        640: 100% ━━━━━━━━━━━━ 57/57 1.7it/s 32.7s0.5ss\n",
      "\u001b[K                 Class     Images  Instances      Box(P          R      mAP50  mAP50-95): 100% ━━━━━━━━━━━━ 4/4 1.6it/s 2.5s1.2s\n",
      "                   all        198       1661      0.474      0.163      0.174      0.133\n",
      "\n",
      "      Epoch    GPU_mem   box_loss   cls_loss   dfl_loss  Instances       Size\n",
      "\u001b[K      11/50      4.79G       1.41      1.613      1.306        146        640: 100% ━━━━━━━━━━━━ 57/57 2.2it/s 25.9s0.3ss\n",
      "\u001b[K                 Class     Images  Instances      Box(P          R      mAP50  mAP50-95): 100% ━━━━━━━━━━━━ 4/4 2.5it/s 1.6s0.8s\n",
      "                   all        198       1661      0.303      0.179      0.165      0.124\n",
      "\n",
      "      Epoch    GPU_mem   box_loss   cls_loss   dfl_loss  Instances       Size\n",
      "\u001b[K      12/50       5.1G      1.395       1.58      1.296        101        640: 100% ━━━━━━━━━━━━ 57/57 2.3it/s 25.0s0.4ss\n",
      "\u001b[K                 Class     Images  Instances      Box(P          R      mAP50  mAP50-95): 100% ━━━━━━━━━━━━ 4/4 2.5it/s 1.6s0.8s\n",
      "                   all        198       1661      0.337      0.179      0.173       0.13\n",
      "\n",
      "      Epoch    GPU_mem   box_loss   cls_loss   dfl_loss  Instances       Size\n",
      "\u001b[K      13/50      4.92G      1.433      1.609      1.327        161        640: 100% ━━━━━━━━━━━━ 57/57 2.3it/s 25.3s0.3ss\n",
      "\u001b[K                 Class     Images  Instances      Box(P          R      mAP50  mAP50-95): 100% ━━━━━━━━━━━━ 4/4 0.4it/s 11.1s4.8s\n",
      "                   all        198       1661      0.338       0.17      0.162      0.121\n",
      "\n",
      "      Epoch    GPU_mem   box_loss   cls_loss   dfl_loss  Instances       Size\n",
      "\u001b[K      14/50      5.11G      1.419      1.583      1.308        164        640: 100% ━━━━━━━━━━━━ 57/57 0.2it/s 4:484.3ss\n",
      "\u001b[K                 Class     Images  Instances      Box(P          R      mAP50  mAP50-95): 100% ━━━━━━━━━━━━ 4/4 0.3it/s 14.0s7.0s\n",
      "                   all        198       1661      0.352      0.176      0.162       0.12\n",
      "\n",
      "      Epoch    GPU_mem   box_loss   cls_loss   dfl_loss  Instances       Size\n",
      "\u001b[K      15/50      4.97G      1.361      1.531      1.284        137        640: 100% ━━━━━━━━━━━━ 57/57 0.4it/s 2:310.3ss\n",
      "\u001b[K                 Class     Images  Instances      Box(P          R      mAP50  mAP50-95): 100% ━━━━━━━━━━━━ 4/4 2.5it/s 1.6s0.8s\n",
      "                   all        198       1661      0.422      0.138      0.158      0.119\n",
      "\n",
      "      Epoch    GPU_mem   box_loss   cls_loss   dfl_loss  Instances       Size\n",
      "\u001b[K      16/50      4.68G      1.366      1.544      1.278        135        640: 100% ━━━━━━━━━━━━ 57/57 2.2it/s 25.6s0.4ss\n",
      "\u001b[K                 Class     Images  Instances      Box(P          R      mAP50  mAP50-95): 100% ━━━━━━━━━━━━ 4/4 2.4it/s 1.7s0.8s\n",
      "                   all        198       1661      0.272      0.191      0.163       0.12\n",
      "\n",
      "      Epoch    GPU_mem   box_loss   cls_loss   dfl_loss  Instances       Size\n",
      "\u001b[K      17/50      5.19G       1.41      1.552      1.296        116        640: 100% ━━━━━━━━━━━━ 57/57 2.3it/s 25.3s0.3ss\n",
      "\u001b[K                 Class     Images  Instances      Box(P          R      mAP50  mAP50-95): 100% ━━━━━━━━━━━━ 4/4 2.5it/s 1.6s0.8s\n",
      "                   all        198       1661      0.364      0.162      0.168       0.13\n",
      "\n",
      "      Epoch    GPU_mem   box_loss   cls_loss   dfl_loss  Instances       Size\n",
      "\u001b[K      18/50         5G      1.361      1.525       1.27        279        640: 100% ━━━━━━━━━━━━ 57/57 2.2it/s 26.1s0.4ss\n",
      "\u001b[K                 Class     Images  Instances      Box(P          R      mAP50  mAP50-95): 100% ━━━━━━━━━━━━ 4/4 2.1it/s 1.9s0.9s\n",
      "                   all        198       1661      0.451      0.157      0.156      0.118\n",
      "\n",
      "      Epoch    GPU_mem   box_loss   cls_loss   dfl_loss  Instances       Size\n",
      "\u001b[K      19/50      5.56G      1.331      1.496       1.27        231        640: 100% ━━━━━━━━━━━━ 57/57 2.0it/s 27.9s0.4ss\n",
      "\u001b[K                 Class     Images  Instances      Box(P          R      mAP50  mAP50-95): 100% ━━━━━━━━━━━━ 4/4 1.8it/s 2.2s1.0s\n",
      "                   all        198       1661      0.431      0.149      0.168      0.128\n",
      "\n",
      "      Epoch    GPU_mem   box_loss   cls_loss   dfl_loss  Instances       Size\n",
      "\u001b[K      20/50      5.51G      1.376      1.528      1.284        205        640: 100% ━━━━━━━━━━━━ 57/57 1.9it/s 29.6s0.4ss\n",
      "\u001b[K                 Class     Images  Instances      Box(P          R      mAP50  mAP50-95): 100% ━━━━━━━━━━━━ 4/4 1.7it/s 2.4s1.2s\n",
      "                   all        198       1661      0.337      0.163      0.169      0.125\n",
      "\n",
      "      Epoch    GPU_mem   box_loss   cls_loss   dfl_loss  Instances       Size\n",
      "\u001b[K      21/50      5.15G      1.375      1.524      1.284        199        640: 100% ━━━━━━━━━━━━ 57/57 1.7it/s 33.8s0.4ss\n",
      "\u001b[K                 Class     Images  Instances      Box(P          R      mAP50  mAP50-95): 100% ━━━━━━━━━━━━ 4/4 1.7it/s 2.3s1.1s\n",
      "                   all        198       1661      0.364      0.179      0.171      0.128\n",
      "\n",
      "      Epoch    GPU_mem   box_loss   cls_loss   dfl_loss  Instances       Size\n",
      "\u001b[K      22/50      4.92G      1.367      1.508      1.292        187        640: 100% ━━━━━━━━━━━━ 57/57 1.8it/s 32.3s0.5ss\n",
      "\u001b[K                 Class     Images  Instances      Box(P          R      mAP50  mAP50-95): 100% ━━━━━━━━━━━━ 4/4 1.7it/s 2.3s1.1s\n",
      "                   all        198       1661      0.421      0.152      0.163      0.125\n",
      "\n",
      "      Epoch    GPU_mem   box_loss   cls_loss   dfl_loss  Instances       Size\n",
      "\u001b[K      23/50      4.77G      1.314      1.483      1.262        229        640: 100% ━━━━━━━━━━━━ 57/57 1.9it/s 30.2s0.5ss\n",
      "\u001b[K                 Class     Images  Instances      Box(P          R      mAP50  mAP50-95): 100% ━━━━━━━━━━━━ 4/4 2.0it/s 2.0s1.0s\n",
      "                   all        198       1661      0.322      0.153      0.168      0.127\n",
      "\n",
      "      Epoch    GPU_mem   box_loss   cls_loss   dfl_loss  Instances       Size\n",
      "\u001b[K      24/50      4.99G      1.311      1.472      1.259        146        640: 100% ━━━━━━━━━━━━ 57/57 1.8it/s 30.9s0.4ss\n",
      "\u001b[K                 Class     Images  Instances      Box(P          R      mAP50  mAP50-95): 100% ━━━━━━━━━━━━ 4/4 1.7it/s 2.4s1.1s\n",
      "                   all        198       1661      0.329      0.175      0.175      0.136\n",
      "\n",
      "      Epoch    GPU_mem   box_loss   cls_loss   dfl_loss  Instances       Size\n",
      "\u001b[K      25/50      5.12G      1.279       1.44      1.233        119        640: 100% ━━━━━━━━━━━━ 57/57 1.8it/s 32.1s0.4ss\n",
      "\u001b[K                 Class     Images  Instances      Box(P          R      mAP50  mAP50-95): 100% ━━━━━━━━━━━━ 4/4 1.8it/s 2.3s1.1s\n",
      "                   all        198       1661      0.584      0.133      0.157      0.122\n",
      "\n",
      "      Epoch    GPU_mem   box_loss   cls_loss   dfl_loss  Instances       Size\n",
      "\u001b[K      26/50      4.86G      1.288      1.433      1.248        176        640: 100% ━━━━━━━━━━━━ 57/57 1.9it/s 29.4s0.5ss\n",
      "\u001b[K                 Class     Images  Instances      Box(P          R      mAP50  mAP50-95): 100% ━━━━━━━━━━━━ 4/4 2.1it/s 1.9s0.9s\n",
      "                   all        198       1661      0.496      0.154      0.175      0.136\n",
      "\n",
      "      Epoch    GPU_mem   box_loss   cls_loss   dfl_loss  Instances       Size\n",
      "\u001b[K      27/50      5.08G      1.278      1.452      1.238        102        640: 100% ━━━━━━━━━━━━ 57/57 1.9it/s 29.8s0.4ss\n",
      "\u001b[K                 Class     Images  Instances      Box(P          R      mAP50  mAP50-95): 100% ━━━━━━━━━━━━ 4/4 1.6it/s 2.4s1.2s\n",
      "                   all        198       1661      0.432      0.173      0.172      0.132\n",
      "\n",
      "      Epoch    GPU_mem   box_loss   cls_loss   dfl_loss  Instances       Size\n",
      "\u001b[K      28/50      4.94G      1.297      1.436      1.244        139        640: 100% ━━━━━━━━━━━━ 57/57 2.3it/s 25.1s0.3ss\n",
      "\u001b[K                 Class     Images  Instances      Box(P          R      mAP50  mAP50-95): 100% ━━━━━━━━━━━━ 4/4 2.8it/s 1.4s0.7s\n",
      "                   all        198       1661      0.511      0.161      0.164      0.127\n",
      "\n",
      "      Epoch    GPU_mem   box_loss   cls_loss   dfl_loss  Instances       Size\n",
      "\u001b[K      29/50      5.16G      1.332      1.489      1.269        188        640: 100% ━━━━━━━━━━━━ 57/57 2.6it/s 22.3s0.3ss\n",
      "\u001b[K                 Class     Images  Instances      Box(P          R      mAP50  mAP50-95): 100% ━━━━━━━━━━━━ 4/4 2.7it/s 1.5s0.7s\n",
      "                   all        198       1661      0.459      0.169      0.175      0.138\n",
      "\n",
      "      Epoch    GPU_mem   box_loss   cls_loss   dfl_loss  Instances       Size\n",
      "\u001b[K      30/50      5.38G      1.297      1.459      1.262        131        640: 100% ━━━━━━━━━━━━ 57/57 2.7it/s 21.1s0.3ss\n",
      "\u001b[K                 Class     Images  Instances      Box(P          R      mAP50  mAP50-95): 100% ━━━━━━━━━━━━ 4/4 2.8it/s 1.4s0.7s\n",
      "                   all        198       1661      0.431      0.168       0.17      0.134\n",
      "\n",
      "      Epoch    GPU_mem   box_loss   cls_loss   dfl_loss  Instances       Size\n",
      "\u001b[K      31/50      5.25G      1.298       1.44      1.258        168        640: 100% ━━━━━━━━━━━━ 57/57 2.7it/s 21.2s0.3ss\n",
      "\u001b[K                 Class     Images  Instances      Box(P          R      mAP50  mAP50-95): 100% ━━━━━━━━━━━━ 4/4 2.4it/s 1.7s0.8s\n",
      "                   all        198       1661      0.579      0.154      0.179      0.143\n",
      "\n",
      "      Epoch    GPU_mem   box_loss   cls_loss   dfl_loss  Instances       Size\n",
      "\u001b[K      32/50      4.94G      1.232      1.388       1.22        181        640: 100% ━━━━━━━━━━━━ 57/57 2.6it/s 21.8s0.3ss\n",
      "\u001b[K                 Class     Images  Instances      Box(P          R      mAP50  mAP50-95): 100% ━━━━━━━━━━━━ 4/4 2.6it/s 1.5s0.7s\n",
      "                   all        198       1661      0.495      0.166      0.183       0.14\n",
      "\n",
      "      Epoch    GPU_mem   box_loss   cls_loss   dfl_loss  Instances       Size\n",
      "\u001b[K      33/50      5.15G      1.254      1.407      1.225        217        640: 100% ━━━━━━━━━━━━ 57/57 2.7it/s 21.3s0.3ss\n",
      "\u001b[K                 Class     Images  Instances      Box(P          R      mAP50  mAP50-95): 100% ━━━━━━━━━━━━ 4/4 2.5it/s 1.6s0.8s\n",
      "                   all        198       1661      0.397       0.17      0.167      0.129\n",
      "\n",
      "      Epoch    GPU_mem   box_loss   cls_loss   dfl_loss  Instances       Size\n",
      "\u001b[K      34/50      5.46G      1.291      1.461      1.244        159        640: 100% ━━━━━━━━━━━━ 57/57 2.6it/s 22.3s0.3ss\n",
      "\u001b[K                 Class     Images  Instances      Box(P          R      mAP50  mAP50-95): 100% ━━━━━━━━━━━━ 4/4 2.4it/s 1.7s0.8s\n",
      "                   all        198       1661       0.42      0.162      0.178      0.139\n",
      "\n",
      "      Epoch    GPU_mem   box_loss   cls_loss   dfl_loss  Instances       Size\n",
      "\u001b[K      35/50      5.16G      1.275      1.425      1.235        105        640: 100% ━━━━━━━━━━━━ 57/57 2.6it/s 22.1s0.3ss\n",
      "\u001b[K                 Class     Images  Instances      Box(P          R      mAP50  mAP50-95): 100% ━━━━━━━━━━━━ 4/4 2.3it/s 1.8s0.9s\n",
      "                   all        198       1661      0.399      0.178      0.178       0.14\n",
      "\n",
      "      Epoch    GPU_mem   box_loss   cls_loss   dfl_loss  Instances       Size\n",
      "\u001b[K      36/50      4.84G      1.208      1.339      1.209        158        640: 100% ━━━━━━━━━━━━ 57/57 2.6it/s 21.7s0.3ss\n",
      "\u001b[K                 Class     Images  Instances      Box(P          R      mAP50  mAP50-95): 100% ━━━━━━━━━━━━ 4/4 2.6it/s 1.5s0.7s\n",
      "                   all        198       1661      0.415      0.176      0.177      0.139\n",
      "\n",
      "      Epoch    GPU_mem   box_loss   cls_loss   dfl_loss  Instances       Size\n",
      "\u001b[K      37/50      5.43G      1.197      1.311      1.204        146        640: 100% ━━━━━━━━━━━━ 57/57 2.6it/s 22.3s0.3ss\n",
      "\u001b[K                 Class     Images  Instances      Box(P          R      mAP50  mAP50-95): 100% ━━━━━━━━━━━━ 4/4 2.3it/s 1.7s0.8s\n",
      "                   all        198       1661      0.399       0.17      0.167       0.13\n",
      "\n",
      "      Epoch    GPU_mem   box_loss   cls_loss   dfl_loss  Instances       Size\n",
      "\u001b[K      38/50      5.14G       1.23      1.385      1.229        169        640: 100% ━━━━━━━━━━━━ 57/57 2.6it/s 22.1s0.3ss\n",
      "\u001b[K                 Class     Images  Instances      Box(P          R      mAP50  mAP50-95): 100% ━━━━━━━━━━━━ 4/4 2.7it/s 1.5s0.7s\n",
      "                   all        198       1661      0.458      0.163      0.176      0.139\n",
      "\n",
      "      Epoch    GPU_mem   box_loss   cls_loss   dfl_loss  Instances       Size\n",
      "\u001b[K      39/50      5.16G      1.244      1.369      1.224        152        640: 100% ━━━━━━━━━━━━ 57/57 2.7it/s 21.2s0.3ss\n",
      "\u001b[K                 Class     Images  Instances      Box(P          R      mAP50  mAP50-95): 100% ━━━━━━━━━━━━ 4/4 2.3it/s 1.7s0.8s\n",
      "                   all        198       1661      0.463      0.167      0.175      0.137\n",
      "\n",
      "      Epoch    GPU_mem   box_loss   cls_loss   dfl_loss  Instances       Size\n",
      "\u001b[K      40/50      4.85G      1.228      1.369      1.208        196        640: 100% ━━━━━━━━━━━━ 57/57 2.6it/s 21.8s0.3ss\n",
      "\u001b[K                 Class     Images  Instances      Box(P          R      mAP50  mAP50-95): 100% ━━━━━━━━━━━━ 4/4 2.7it/s 1.5s0.7s\n",
      "                   all        198       1661      0.512      0.158      0.179       0.14\n",
      "Closing dataloader mosaic\n",
      "\n",
      "      Epoch    GPU_mem   box_loss   cls_loss   dfl_loss  Instances       Size\n",
      "\u001b[K      41/50      4.64G      1.253      1.487      1.289        123        640: 100% ━━━━━━━━━━━━ 57/57 2.6it/s 22.3s0.3ss\n",
      "\u001b[K                 Class     Images  Instances      Box(P          R      mAP50  mAP50-95): 100% ━━━━━━━━━━━━ 4/4 2.6it/s 1.5s0.7s\n",
      "                   all        198       1661      0.526      0.161      0.179      0.143\n",
      "\n",
      "      Epoch    GPU_mem   box_loss   cls_loss   dfl_loss  Instances       Size\n",
      "\u001b[K      42/50      4.54G      1.231      1.467      1.282         73        640: 100% ━━━━━━━━━━━━ 57/57 2.8it/s 20.6s0.3ss\n",
      "\u001b[K                 Class     Images  Instances      Box(P          R      mAP50  mAP50-95): 100% ━━━━━━━━━━━━ 4/4 2.8it/s 1.4s0.7s\n",
      "                   all        198       1661      0.537      0.132      0.158      0.125\n",
      "\n",
      "      Epoch    GPU_mem   box_loss   cls_loss   dfl_loss  Instances       Size\n",
      "\u001b[K      43/50      4.52G      1.225      1.471      1.291         61        640: 100% ━━━━━━━━━━━━ 57/57 2.7it/s 20.9s0.3ss\n",
      "\u001b[K                 Class     Images  Instances      Box(P          R      mAP50  mAP50-95): 100% ━━━━━━━━━━━━ 4/4 2.4it/s 1.6s0.8s\n",
      "                   all        198       1661       0.52      0.157      0.178      0.142\n",
      "\n",
      "      Epoch    GPU_mem   box_loss   cls_loss   dfl_loss  Instances       Size\n",
      "\u001b[K      44/50      4.64G      1.212       1.43      1.262         58        640: 100% ━━━━━━━━━━━━ 57/57 2.7it/s 21.3s0.3ss\n",
      "\u001b[K                 Class     Images  Instances      Box(P          R      mAP50  mAP50-95): 100% ━━━━━━━━━━━━ 4/4 2.6it/s 1.5s0.7s\n",
      "                   all        198       1661      0.573      0.139      0.167      0.132\n",
      "\n",
      "      Epoch    GPU_mem   box_loss   cls_loss   dfl_loss  Instances       Size\n",
      "\u001b[K      45/50      4.69G      1.212      1.438      1.267        102        640: 100% ━━━━━━━━━━━━ 57/57 2.6it/s 21.9s0.3ss\n",
      "\u001b[K                 Class     Images  Instances      Box(P          R      mAP50  mAP50-95): 100% ━━━━━━━━━━━━ 4/4 2.0it/s 2.0s1.0s\n",
      "                   all        198       1661      0.621      0.145      0.174      0.139\n",
      "\n",
      "      Epoch    GPU_mem   box_loss   cls_loss   dfl_loss  Instances       Size\n",
      "\u001b[K      46/50      4.68G      1.212      1.457      1.272         92        640: 100% ━━━━━━━━━━━━ 57/57 2.6it/s 22.3s0.3ss\n",
      "\u001b[K                 Class     Images  Instances      Box(P          R      mAP50  mAP50-95): 100% ━━━━━━━━━━━━ 4/4 2.2it/s 1.8s0.9s\n",
      "                   all        198       1661       0.74      0.141      0.173      0.141\n",
      "\n",
      "      Epoch    GPU_mem   box_loss   cls_loss   dfl_loss  Instances       Size\n",
      "\u001b[K      47/50      4.64G      1.193       1.42      1.259         50        640: 100% ━━━━━━━━━━━━ 57/57 2.6it/s 21.9s0.3ss\n",
      "\u001b[K                 Class     Images  Instances      Box(P          R      mAP50  mAP50-95): 100% ━━━━━━━━━━━━ 4/4 2.0it/s 2.0s1.0s\n",
      "                   all        198       1661      0.545      0.155      0.175      0.141\n",
      "\n",
      "      Epoch    GPU_mem   box_loss   cls_loss   dfl_loss  Instances       Size\n",
      "\u001b[K      48/50      4.65G      1.201      1.422      1.257         94        640: 100% ━━━━━━━━━━━━ 57/57 2.6it/s 22.3s0.3ss\n",
      "\u001b[K                 Class     Images  Instances      Box(P          R      mAP50  mAP50-95): 100% ━━━━━━━━━━━━ 4/4 2.4it/s 1.7s0.8s\n",
      "                   all        198       1661      0.549      0.154      0.177      0.145\n",
      "\n",
      "      Epoch    GPU_mem   box_loss   cls_loss   dfl_loss  Instances       Size\n",
      "\u001b[K      49/50      4.69G      1.193       1.41      1.257         32        640: 100% ━━━━━━━━━━━━ 57/57 2.6it/s 22.3s0.3ss\n",
      "\u001b[K                 Class     Images  Instances      Box(P          R      mAP50  mAP50-95): 100% ━━━━━━━━━━━━ 4/4 2.2it/s 1.8s0.9s\n",
      "                   all        198       1661      0.545      0.153      0.171      0.138\n",
      "\n",
      "      Epoch    GPU_mem   box_loss   cls_loss   dfl_loss  Instances       Size\n",
      "\u001b[K      50/50      4.57G      1.181      1.404      1.257         85        640: 100% ━━━━━━━━━━━━ 57/57 2.6it/s 22.2s0.3ss\n",
      "\u001b[K                 Class     Images  Instances      Box(P          R      mAP50  mAP50-95): 100% ━━━━━━━━━━━━ 4/4 2.5it/s 1.6s0.8s\n",
      "                   all        198       1661      0.574      0.152      0.174      0.141\n",
      "\n",
      "50 epochs completed in 0.763 hours.\n",
      "Optimizer stripped from C:\\Potenup\\Drug-Detection-Chatbot\\modeling\\segment\\runs\\drug-detect-1\\train\\weights\\last.pt, 5.5MB\n",
      "Optimizer stripped from C:\\Potenup\\Drug-Detection-Chatbot\\modeling\\segment\\runs\\drug-detect-1\\train\\weights\\best.pt, 5.5MB\n",
      "\n",
      "Validating C:\\Potenup\\Drug-Detection-Chatbot\\modeling\\segment\\runs\\drug-detect-1\\train\\weights\\best.pt...\n",
      "Ultralytics 8.3.198  Python-3.10.18 torch-2.8.0+cu126 CUDA:0 (NVIDIA GeForce RTX 4070 Laptop GPU, 8188MiB)\n",
      "YOLO11n summary (fused): 100 layers, 2,582,542 parameters, 0 gradients, 6.3 GFLOPs\n",
      "\u001b[K                 Class     Images  Instances      Box(P          R      mAP50  mAP50-95): 100% ━━━━━━━━━━━━ 4/4 2.0it/s 2.0s0.9s\n",
      "                   all        198       1661      0.536      0.156      0.177      0.145\n",
      "                  drug        198       1661      0.536      0.156      0.177      0.145\n",
      "Speed: 0.4ms preprocess, 2.5ms inference, 0.0ms loss, 2.5ms postprocess per image\n",
      "Results saved to \u001b[1mC:\\Potenup\\Drug-Detection-Chatbot\\modeling\\segment\\runs\\drug-detect-1\\train\u001b[0m\n"
     ]
    }
   ],
   "source": [
    "# 학습\n",
    "results = model.train(\n",
    "    data=DATA_YAML_PATH,\n",
    "    epochs=50,\n",
    "    batch=32,\n",
    "    imgsz=640,\n",
    "    device=device,\n",
    "    project=f\"runs/{PROJECT_NAME}\",\n",
    "    save=True,\n",
    "    save_period=10,\n",
    "    verbose=True\n",
    ")"
   ]
  },
  {
   "cell_type": "markdown",
   "id": "4b86ba92",
   "metadata": {},
   "source": [
    "# 모델 평가하기"
   ]
  },
  {
   "cell_type": "code",
   "execution_count": 14,
   "id": "e9e7d73d",
   "metadata": {},
   "outputs": [],
   "source": [
    "best_model_path = \"C:\\Potenup\\Drug-Detection-Chatbot\\modeling\\segment\\\\runs\\drug-detect2\\weights\\\\best.pt\""
   ]
  },
  {
   "cell_type": "code",
   "execution_count": 15,
   "id": "5046b65e",
   "metadata": {},
   "outputs": [],
   "source": [
    "load_model = YOLO(best_model_path)"
   ]
  },
  {
   "cell_type": "code",
   "execution_count": null,
   "id": "231b832a",
   "metadata": {},
   "outputs": [
    {
     "name": "stdout",
     "output_type": "stream",
     "text": [
      "Ultralytics 8.3.198  Python-3.10.18 torch-2.8.0+cu126 CUDA:0 (NVIDIA GeForce RTX 4070 Laptop GPU, 8188MiB)\n",
      "\u001b[34m\u001b[1mval: \u001b[0mFast image access  (ping: 0.10.0 ms, read: 1214.0376.8 MB/s, size: 956.3 KB)\n",
      "\u001b[K\u001b[34m\u001b[1mval: \u001b[0mScanning C:\\Potenup\\Drug-Detection-Chatbot\\modeling\\segment\\drug-detect-2-1\\valid\\labels.cache... 198 images, 0 backgrounds, 0 corrupt: 100% ━━━━━━━━━━━━ 198/198  0.0s\n",
      "\u001b[K                 Class     Images  Instances      Box(P          R      mAP50  mAP50-95): 100% ━━━━━━━━━━━━ 13/13 3.7it/s 3.5s0.2s\n",
      "                   all        198       1661      0.438       0.17      0.199      0.146\n",
      "Speed: 0.6ms preprocess, 6.9ms inference, 0.0ms loss, 2.9ms postprocess per image\n",
      "Results saved to \u001b[1mC:\\Potenup\\Drug-Detection-Chatbot\\modeling\\segment\\runs\\val\u001b[0m\n"
     ]
    }
   ],
   "source": [
    "val_results = load_model.val(\n",
    "    data=DATA_YAML_PATH, \n",
    "    imgsz=640, \n",
    "    iou=0.5, \n",
    "    save=True,\n",
    "    project=f\"runs/{PROJECT_NAME}\",\n",
    "    )"
   ]
  },
  {
   "cell_type": "markdown",
   "id": "d05be5dc",
   "metadata": {},
   "source": [
    "# 테스트 해보기"
   ]
  },
  {
   "cell_type": "code",
   "execution_count": null,
   "id": "d5defb68",
   "metadata": {},
   "outputs": [],
   "source": [
    "import cv2\n",
    "\n",
    "def enhance_contrast(img):\n",
    "    gray = cv2.cvtColor(img, cv2.COLOR_BGR2GRAY)\n",
    "    clahe = cv2.createCLAHE(clipLimit=3.0, tileGridSize=(8, 8))\n",
    "    enhanced = clahe.apply(gray)\n",
    "    inverted = cv2.bitwise_not(enhanced)   # 흑백 반전\n",
    "    return cv2.cvtColor(inverted, cv2.COLOR_GRAY2BGR)  # 3채널로 복원"
   ]
  },
  {
   "cell_type": "code",
   "execution_count": null,
   "id": "27fa0f4c",
   "metadata": {},
   "outputs": [
    {
     "name": "stdout",
     "output_type": "stream",
     "text": [
      "\n",
      "image 1/3 c:\\Potenup\\Drug-Detection-Chatbot\\modeling\\segment\\images\\preprocessed\\test1.jpg: 640x384 5 drugs, 23.3ms\n",
      "image 2/3 c:\\Potenup\\Drug-Detection-Chatbot\\modeling\\segment\\images\\preprocessed\\test2.jpg: 640x384 4 drugs, 30.3ms\n",
      "image 3/3 c:\\Potenup\\Drug-Detection-Chatbot\\modeling\\segment\\images\\preprocessed\\test3.jpg: 640x640 4 drugs, 31.4ms\n",
      "Speed: 5.0ms preprocess, 28.3ms inference, 3.2ms postprocess per image at shape (1, 3, 640, 640)\n",
      "Results saved to \u001b[1mC:\\Potenup\\Drug-Detection-Chatbot\\modeling\\segment\\images\\results\\yolo\\predict5\u001b[0m\n",
      "결과 이미지가 ./images/results/yolo 폴더에 저장되었습니다.\n"
     ]
    }
   ],
   "source": [
    "import cv2\n",
    "import os\n",
    "from ultralytics import YOLO\n",
    "\n",
    "input_dir = \"./images/original\"\n",
    "preprocessed_dir = \"./images/preprocessed\"\n",
    "output_dir = \"./images/results/yolo\"\n",
    "\n",
    "os.makedirs(preprocessed_dir, exist_ok=True)\n",
    "os.makedirs(output_dir, exist_ok=True)\n",
    "\n",
    "for fname in os.listdir(input_dir):\n",
    "    if fname.lower().endswith((\".jpg\", \".png\", \".jpeg\")):\n",
    "        img_path = os.path.join(input_dir, fname)\n",
    "        img = cv2.imread(img_path)\n",
    "\n",
    "        img = enhance_contrast(img)\n",
    "\n",
    "        # 저장\n",
    "        out_path = os.path.join(preprocessed_dir, fname)\n",
    "        cv2.imwrite(out_path, img)\n",
    "\n",
    "# 전처리된 이미지로 예측 실행\n",
    "model = YOLO(best_model_path)\n",
    "results = model.predict(\n",
    "    source=preprocessed_dir,\n",
    "    conf=0.5,\n",
    "    save=True,\n",
    "    project=output_dir,\n",
    "    name=\"\",\n",
    ")\n",
    "\n",
    "print(f\"결과 이미지가 {output_dir} 폴더에 저장되었습니다.\")\n"
   ]
  }
 ],
 "metadata": {
  "kernelspec": {
   "display_name": "drug-detection-chatbot (3.10.18)",
   "language": "python",
   "name": "python3"
  },
  "language_info": {
   "codemirror_mode": {
    "name": "ipython",
    "version": 3
   },
   "file_extension": ".py",
   "mimetype": "text/x-python",
   "name": "python",
   "nbconvert_exporter": "python",
   "pygments_lexer": "ipython3",
   "version": "3.10.18"
  }
 },
 "nbformat": 4,
 "nbformat_minor": 5
}

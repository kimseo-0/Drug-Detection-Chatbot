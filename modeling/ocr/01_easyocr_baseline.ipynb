{
 "cells": [
  {
   "cell_type": "code",
   "execution_count": 1,
   "id": "eff3612c",
   "metadata": {},
   "outputs": [],
   "source": [
    "import easyocr"
   ]
  },
  {
   "cell_type": "code",
   "execution_count": 19,
   "id": "e4e91fba",
   "metadata": {},
   "outputs": [
    {
     "name": "stderr",
     "output_type": "stream",
     "text": [
      "Neither CUDA nor MPS are available - defaulting to CPU. Note: This module is much faster with a GPU.\n",
      "c:\\Potenup\\Drug-Detection-Chatbot\\.venv\\lib\\site-packages\\torch\\utils\\data\\dataloader.py:666: UserWarning: 'pin_memory' argument is set as true but no accelerator is found, then device pinned memory won't be used.\n",
      "  warnings.warn(warn_msg)\n"
     ]
    },
    {
     "name": "stdout",
     "output_type": "stream",
     "text": [
      "[([[np.int32(107), np.int32(217)], [np.int32(788), np.int32(217)], [np.int32(788), np.int32(341)], [np.int32(107), np.int32(341)]], '광범위 항생 점안액', np.float64(0.9694445045926309)), ([[np.int32(96), np.int32(331)], [np.int32(803), np.int32(331)], [np.int32(803), np.int32(564)], [np.int32(96), np.int32(564)]], '레복사신', np.float64(0.998261570930481)), ([[np.int32(785), np.int32(448)], [np.int32(990), np.int32(448)], [np.int32(990), np.int32(549)], [np.int32(785), np.int32(549)]], '점안액', np.float64(0.9897359776856836)), ([[np.int32(88), np.int32(578)], [np.int32(1005), np.int32(578)], [np.int32(1005), np.int32(706)], [np.int32(88), np.int32(706)]], '[원료약품의 분량) ImL 중', np.float64(0.700425756846032)), ([[np.int32(130), np.int32(707)], [np.int32(478), np.int32(707)], [np.int32(478), np.int32(845)], [np.int32(130), np.int32(845)]], '유요성분', np.float64(0.5645095109939575)), ([[np.int32(521), np.int32(692)], [np.int32(1271), np.int32(692)], [np.int32(1271), np.int32(843)], [np.int32(521), np.int32(843)]], '레보들록사신수화물', np.float64(0.47499460182110315)), ([[np.int32(127), np.int32(848)], [np.int32(319), np.int32(848)], [np.int32(319), np.int32(972)], [np.int32(127), np.int32(972)]], '(KP)', np.float64(0.7025236019478944)), ([[np.int32(1077), np.int32(841)], [np.int32(1280), np.int32(841)], [np.int32(1280), np.int32(970)], [np.int32(1077), np.int32(970)]], '5mg', np.float64(0.738019585609436)), ([[np.int32(131), np.int32(973)], [np.int32(748), np.int32(973)], [np.int32(748), np.int32(1110)], [np.int32(131), np.int32(1110)]], '철가제등장화제)', np.float64(0.5848181181570495)), ([[np.int32(788), np.int32(967)], [np.int32(1201), np.int32(967)], [np.int32(1201), np.int32(1106)], [np.int32(788), np.int32(1106)]], '염화나트룹', np.float64(0.8248638604363072)), ([[np.int32(135), np.int32(1103)], [np.int32(1275), np.int32(1103)], [np.int32(1275), np.int32(1250)], [np.int32(135), np.int32(1250)]], '철가제 조절제 : 수산화나트룹', np.float64(0.4844166518813409)), ([[np.int32(139), np.int32(1244)], [np.int32(320), np.int32(1244)], [np.int32(320), np.int32(1376)], [np.int32(139), np.int32(1376)]], '염산', np.float64(0.8515070158866977)), ([[np.int32(139), np.int32(1370)], [np.int32(975), np.int32(1370)], [np.int32(975), np.int32(1507)], [np.int32(139), np.int32(1507)]], '철가제용제) : 주사용수', np.float64(0.611829936937314)), ([[np.int32(102), np.int32(1511)], [np.int32(1290), np.int32(1511)], [np.int32(1290), np.int32(1639)], [np.int32(102), np.int32(1639)]], '[성 상) 플라스틱 용기에 든 미황색', np.float64(0.7109515972129237)), ([[np.int32(138), np.int32(1625)], [np.int32(1112), np.int32(1625)], [np.int32(1112), np.int32(1751)], [np.int32(138), np.int32(1751)]], '내지 담황색의 투명한 점안액', np.float64(0.8800455187664401)), ([[np.int32(106), np.int32(1761)], [np.int32(502), np.int32(1761)], [np.int32(502), np.int32(1878)], [np.int32(106), np.int32(1878)]], '[저장방법)', np.float64(0.9928163447403345)), ([[np.int32(149), np.int32(1867)], [np.int32(1287), np.int32(1867)], [np.int32(1287), np.int32(1992)], [np.int32(149), np.int32(1992)]], '기밀용기 차광실온(1~309C) 보관', np.float64(0.30055259225648356)), ([[np.int32(121), np.int32(1999)], [np.int32(1002), np.int32(1999)], [np.int32(1002), np.int32(2123)], [np.int32(121), np.int32(2123)]], '[주의사항) 철부문서 참조', np.float64(0.7472874562491538)), ([[np.int32(194), np.int32(2137)], [np.int32(1292), np.int32(2137)], [np.int32(1292), np.int32(2260)], [np.int32(194), np.int32(2260)]], '시용자 편의상용기 내 반공간이 존재', np.float64(0.7369404011217469)), ([[np.int32(196), np.int32(2232)], [np.int32(1290), np.int32(2232)], [np.int32(1290), np.int32(2358)], [np.int32(196), np.int32(2358)]], '하여 제품의 용랑은 표시사항과 동일', np.float64(0.5985403660833017)), ([[np.int32(202), np.int32(2334)], [np.int32(422), np.int32(2334)], [np.int32(422), np.int32(2448)], [np.int32(202), np.int32(2448)]], '합니다', np.float64(0.9711369060265299)), ([[np.int32(194), np.int32(2486)], [np.int32(1180), np.int32(2486)], [np.int32(1180), np.int32(2609)], [np.int32(194), np.int32(2609)]], '제조번호 유표기한 하단표시', np.float64(0.6632676247858633)), ([[np.int32(158), np.int32(2675)], [np.int32(480), np.int32(2675)], [np.int32(480), np.int32(2780)], [np.int32(158), np.int32(2780)]], 'Hanmi', np.float64(0.997825443528353)), ([[np.int32(529), np.int32(2629)], [np.int32(1299), np.int32(2629)], [np.int32(1299), np.int32(2823)], [np.int32(529), np.int32(2823)]], '한미약품(주)', np.float64(0.6680229148833404)), ([[np.int32(157), np.int32(2810)], [np.int32(1276), np.int32(2810)], [np.int32(1276), np.int32(2935)], [np.int32(157), np.int32(2935)]], '(본사) 서울특별시 승파구 위레성대로 14', np.float64(0.6303374052906185)), ([[np.int32(155), np.int32(2918)], [np.int32(1278), np.int32(2918)], [np.int32(1278), np.int32(3035)], [np.int32(155), np.int32(3035)]], '(공장)경기도 화성시 팔단면 무하로 214', np.float64(0.7395185731099723)), ([[np.int32(158), np.int32(3020)], [np.int32(1283), np.int32(3020)], [np.int32(1283), np.int32(3134)], [np.int32(158), np.int32(3134)]], '제품문의: 080-916 9OOO(수신자요금부담)', np.float64(0.30990121317624125)), ([[np.int32(158), np.int32(3121)], [np.int32(1282), np.int32(3121)], [np.int32(1282), np.int32(3245)], [np.int32(158), np.int32(3245)]], '제품상세정보: WWWhanmi.cOKr', np.float64(0.5015138204460089))]\n"
     ]
    }
   ],
   "source": [
    "reader = easyocr.Reader(['ko', 'en'])  \n",
    "results = reader.readtext(\"C:\\Potenup\\Drug-Detection-Chatbot\\data\\medicine_00002.jpg\")   # \"C:\\Potenup\\Drug-Detection-Chatbot\\data\\medicine_00002.jpg\"\n",
    "print(results)"
   ]
  },
  {
   "cell_type": "code",
   "execution_count": 20,
   "id": "57a82f11",
   "metadata": {},
   "outputs": [
    {
     "name": "stdout",
     "output_type": "stream",
     "text": [
      "<class 'list'>\n"
     ]
    }
   ],
   "source": [
    "print(type(results))"
   ]
  },
  {
   "cell_type": "code",
   "execution_count": 23,
   "id": "323f305c",
   "metadata": {},
   "outputs": [
    {
     "name": "stdout",
     "output_type": "stream",
     "text": [
      "28\n"
     ]
    }
   ],
   "source": [
    "print(len(results))"
   ]
  },
  {
   "cell_type": "code",
   "execution_count": 26,
   "id": "348964d5",
   "metadata": {},
   "outputs": [
    {
     "data": {
      "text/plain": [
       "([[np.int32(107), np.int32(217)],\n",
       "  [np.int32(788), np.int32(217)],\n",
       "  [np.int32(788), np.int32(341)],\n",
       "  [np.int32(107), np.int32(341)]],\n",
       " '광범위 항생 점안액',\n",
       " np.float64(0.9694445045926309))"
      ]
     },
     "execution_count": 26,
     "metadata": {},
     "output_type": "execute_result"
    }
   ],
   "source": [
    "result = results[0]\n",
    "result"
   ]
  },
  {
   "cell_type": "code",
   "execution_count": 27,
   "id": "a3ed84cd",
   "metadata": {},
   "outputs": [
    {
     "name": "stdout",
     "output_type": "stream",
     "text": [
      "<class 'tuple'>\n"
     ]
    }
   ],
   "source": [
    "print(type(result))"
   ]
  },
  {
   "cell_type": "code",
   "execution_count": 28,
   "id": "a14bdc6c",
   "metadata": {},
   "outputs": [
    {
     "name": "stdout",
     "output_type": "stream",
     "text": [
      "광범위 항생 점안액\n"
     ]
    }
   ],
   "source": [
    "text = result[1]\n",
    "print(text)"
   ]
  },
  {
   "cell_type": "code",
   "execution_count": 29,
   "id": "8481ffba",
   "metadata": {},
   "outputs": [
    {
     "name": "stdout",
     "output_type": "stream",
     "text": [
      "광범위 항생 점안액\n",
      "레복사신\n",
      "점안액\n",
      "[원료약품의 분량) ImL 중\n",
      "유요성분\n",
      "레보들록사신수화물\n",
      "(KP)\n",
      "5mg\n",
      "철가제등장화제)\n",
      "염화나트룹\n",
      "철가제 조절제 : 수산화나트룹\n",
      "염산\n",
      "철가제용제) : 주사용수\n",
      "[성 상) 플라스틱 용기에 든 미황색\n",
      "내지 담황색의 투명한 점안액\n",
      "[저장방법)\n",
      "기밀용기 차광실온(1~309C) 보관\n",
      "[주의사항) 철부문서 참조\n",
      "시용자 편의상용기 내 반공간이 존재\n",
      "하여 제품의 용랑은 표시사항과 동일\n",
      "합니다\n",
      "제조번호 유표기한 하단표시\n",
      "Hanmi\n",
      "한미약품(주)\n",
      "(본사) 서울특별시 승파구 위레성대로 14\n",
      "(공장)경기도 화성시 팔단면 무하로 214\n",
      "제품문의: 080-916 9OOO(수신자요금부담)\n",
      "제품상세정보: WWWhanmi.cOKr\n"
     ]
    }
   ],
   "source": [
    "for result in results:\n",
    "    text = result[1]\n",
    "    print(text)"
   ]
  }
 ],
 "metadata": {
  "kernelspec": {
   "display_name": "drug-detection-chatbot",
   "language": "python",
   "name": "python3"
  },
  "language_info": {
   "codemirror_mode": {
    "name": "ipython",
    "version": 3
   },
   "file_extension": ".py",
   "mimetype": "text/x-python",
   "name": "python",
   "nbconvert_exporter": "python",
   "pygments_lexer": "ipython3",
   "version": "3.10.18"
  }
 },
 "nbformat": 4,
 "nbformat_minor": 5
}

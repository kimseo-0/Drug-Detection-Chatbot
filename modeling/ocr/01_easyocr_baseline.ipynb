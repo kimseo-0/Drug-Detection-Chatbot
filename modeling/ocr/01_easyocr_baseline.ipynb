{
 "cells": [
  {
   "cell_type": "code",
   "execution_count": 3,
   "id": "eff3612c",
   "metadata": {},
   "outputs": [],
   "source": [
    "import easyocr"
   ]
  },
  {
   "cell_type": "code",
   "execution_count": 4,
   "id": "e4e91fba",
   "metadata": {},
   "outputs": [
    {
     "name": "stdout",
     "output_type": "stream",
     "text": [
      "[([[np.int32(229), np.int32(217)], [np.int32(892), np.int32(217)], [np.int32(892), np.int32(289)], [np.int32(229), np.int32(289)]], '[원료약품 및 분량] 이 약 1캠술 중', np.float64(0.6783161836781456)), ([[np.int32(1296), np.int32(205)], [np.int32(2312), np.int32(205)], [np.int32(2312), np.int32(289)], [np.int32(1296), np.int32(289)]], '삼켜 복용해야 한다 이 약은 식사와 관계없이 복용할', np.float64(0.7991805674867792)), ([[np.int32(280), np.int32(280)], [np.int32(882), np.int32(280)], [np.int32(882), np.int32(353)], [np.int32(280), np.int32(353)]], \"'유호성분: 두타스테리드(USP)\", np.float64(0.7295777326795885)), ([[np.int32(1074), np.int32(282)], [np.int32(1235), np.int32(282)], [np.int32(1235), np.int32(358)], [np.int32(1074), np.int32(358)]], 'O.5mg', np.float64(0.9291614574202085)), ([[np.int32(1297), np.int32(272)], [np.int32(2308), np.int32(272)], [np.int32(2308), np.int32(347)], [np.int32(1297), np.int32(347)]], '수 있다: 신장애 환자 또는 노인 환자에서 이 약의', np.float64(0.7724002823372097)), ([[np.int32(278), np.int32(342)], [np.int32(1248), np.int32(342)], [np.int32(1248), np.int32(414)], [np.int32(278), np.int32(414)]], \"'철가제(동물유래성분): 질라린(기원동물: 소, 사용\", np.float64(0.19461844604356734)), ([[np.int32(1295), np.int32(335)], [np.int32(2310), np.int32(335)], [np.int32(2310), np.int32(411)], [np.int32(1295), np.int32(411)]], '용량울 조절할 필요는 없다. 간장애 환자에게 이 약을', np.float64(0.44003989833048196)), ([[np.int32(234), np.int32(407)], [np.int32(456), np.int32(407)], [np.int32(456), np.int32(472)], [np.int32(234), np.int32(472)]], '부위: 가죽)', np.float64(0.9997191477553067)), ([[np.int32(1296), np.int32(396)], [np.int32(2312), np.int32(396)], [np.int32(2312), np.int32(472)], [np.int32(1296), np.int32(472)]], '투여한 자료가 없기 때문에 간장애 환자에서의 이', np.float64(0.7074901648752407)), ([[np.int32(277), np.int32(468)], [np.int32(1245), np.int32(468)], [np.int32(1245), np.int32(535)], [np.int32(277), np.int32(535)]], '기타철가제: 농글리세린, 부딪히드록시틀루엔, 숙', np.float64(0.20430919434401681)), ([[np.int32(1298), np.int32(464)], [np.int32(2018), np.int32(464)], [np.int32(2018), np.int32(531)], [np.int32(1298), np.int32(531)]], '약의 권장용량은 확립되어 있지 않다.', np.float64(0.5932361486133898)), ([[np.int32(234), np.int32(530)], [np.int32(1245), np.int32(530)], [np.int32(1245), np.int32(598)], [np.int32(234), np.int32(598)]], '신산질라린, 플리옥실40경화피마자유, 프로필렌글', np.float64(0.30711233326873244)), ([[np.int32(1297), np.int32(536)], [np.int32(1706), np.int32(536)], [np.int32(1706), np.int32(609)], [np.int32(1297), np.int32(609)]], '[사용상의 주의사항]', np.float64(0.871908265333603)), ([[np.int32(233), np.int32(591)], [np.int32(1205), np.int32(591)], [np.int32(1205), np.int32(663)], [np.int32(233), np.int32(663)]], '리혼모노라우레이트, 플록사머124, D-소르비틀액', np.float64(0.17840766067121777)), ([[np.int32(1297), np.int32(604)], [np.int32(2314), np.int32(604)], [np.int32(2314), np.int32(684)], [np.int32(1297), np.int32(684)]], '1경고고여성에계노줄시남자태이메미치논위험성이약은', np.float64(0.22335809463631187)), ([[np.int32(232), np.int32(655)], [np.int32(362), np.int32(655)], [np.int32(362), np.int32(722)], [np.int32(232), np.int32(722)]], '[성상]', np.float64(0.8851924015422485)), ([[np.int32(1296), np.int32(674)], [np.int32(2315), np.int32(674)], [np.int32(2315), np.int32(741)], [np.int32(1296), np.int32(741)]], '피부름 통해서 음수되다 따라서 이 약의 흙수 가능성과 남자', np.float64(0.30878863797703476)), ([[np.int32(234), np.int32(714)], [np.int32(1245), np.int32(714)], [np.int32(1245), np.int32(783)], [np.int32(234), np.int32(783)]], '무색 투명한 내용물이 들어임는 미황색의 투명한', np.float64(0.37055593327243247)), ([[np.int32(1297), np.int32(732)], [np.int32(2316), np.int32(732)], [np.int32(2316), np.int32(805)], [np.int32(1297), np.int32(805)]], '태아에제 미치는 태자 기형의 위험 가능성 때문에 임신쾌거나', np.float64(0.22639058419871186)), ([[np.int32(230), np.int32(775)], [np.int32(561), np.int32(775)], [np.int32(561), np.int32(851)], [np.int32(230), np.int32(851)]], '타원형 연질캠술', np.float64(0.5438229445978269)), ([[np.int32(1298), np.int32(798)], [np.int32(2313), np.int32(798)], [np.int32(2313), np.int32(865)], [np.int32(1298), np.int32(865)]], '임신 가능성이 있는 여성이 이 약을 취급해서는 안 된다 또', np.float64(0.41790101702887367)), ([[np.int32(232), np.int32(840)], [np.int32(358), np.int32(840)], [np.int32(358), np.int32(903)], [np.int32(232), np.int32(903)]], '[효능', np.float64(0.49538713323236205)), ([[np.int32(383), np.int32(839)], [np.int32(506), np.int32(839)], [np.int32(506), np.int32(907)], [np.int32(383), np.int32(907)]], '효과]', np.float64(0.9999418426660514)), ([[np.int32(1296), np.int32(857)], [np.int32(2313), np.int32(857)], [np.int32(2313), np.int32(926)], [np.int32(1296), np.int32(926)]], '여성은 이 약을 취급할 때마다 주의해야 하고 누출되는 캠술', np.float64(0.42876861464675664)), ([[np.int32(232), np.int32(895)], [np.int32(1247), np.int32(895)], [np.int32(1247), np.int32(964)], [np.int32(232), np.int32(964)]], '양성 전립선 비대증 증상의 개선, 급성 요저류 위험성', np.float64(0.8860197655797984)), ([[np.int32(1295), np.int32(919)], [np.int32(2316), np.int32(919)], [np.int32(2316), np.int32(992)], [np.int32(1295), np.int32(992)]], '과의 접촉올 피해야 한다: 만약 캠술이 새어 이 약과 접촉하', np.float64(0.6083099082230923)), ([[np.int32(229), np.int32(957)], [np.int32(1250), np.int32(957)], [np.int32(1250), np.int32(1032)], [np.int32(229), np.int32(1032)]], '감소 양성 전립선 비대증과 관련된 수술 필요성 감소,', np.float64(0.8214350360859847)), ([[np.int32(1300), np.int32(983)], [np.int32(2201), np.int32(983)], [np.int32(2201), np.int32(1052)], [np.int32(1300), np.int32(1052)]], '경우에는 접촉부위름 즉시물과 비누로 세적해야한다', np.float64(0.2907301465663907)), ([[np.int32(231), np.int32(1018)], [np.int32(1254), np.int32(1018)], [np.int32(1254), np.int32(1095)], [np.int32(231), np.int32(1095)]], '성인 남성(만18~50세)의 남성형 탈모(androgenetic', np.float64(0.6473223084616914)), ([[np.int32(1979), np.int32(1056)], [np.int32(2323), np.int32(1056)], [np.int32(2323), np.int32(1117)], [np.int32(1979), np.int32(1117)]], '이하 침부문서 참조', np.float64(0.6118562075150078)), ([[np.int32(229), np.int32(1087)], [np.int32(587), np.int32(1087)], [np.int32(587), np.int32(1161)], [np.int32(229), np.int32(1161)]], 'alopecia)의 치료', np.float64(0.9205648196168705)), ([[np.int32(1297), np.int32(1104)], [np.int32(2015), np.int32(1104)], [np.int32(2015), np.int32(1179)], [np.int32(1297), np.int32(1179)]], '[저장방법] 밀페용기 309C이하 보관', np.float64(0.32327270882108516)), ([[np.int32(228), np.int32(1146)], [np.int32(354), np.int32(1146)], [np.int32(354), np.int32(1218)], [np.int32(228), np.int32(1218)]], '[용법', np.float64(0.9996686125006019)), ([[np.int32(377), np.int32(1148)], [np.int32(499), np.int32(1148)], [np.int32(499), np.int32(1214)], [np.int32(377), np.int32(1214)]], '용량]', np.float64(0.9961455289573787)), ([[np.int32(1297), np.int32(1167)], [np.int32(1964), np.int32(1167)], [np.int32(1964), np.int32(1240)], [np.int32(1297), np.int32(1240)]], '[제조의회자] (주)제뉴원사이언스', np.float64(0.878859870052375)), ([[np.int32(232), np.int32(1209)], [np.int32(745), np.int32(1209)], [np.int32(745), np.int32(1275)], [np.int32(232), np.int32(1275)]], '이 약의 권장용량은 1일', np.float64(0.5812591190686525)), ([[np.int32(761), np.int32(1209)], [np.int32(840), np.int32(1209)], [np.int32(840), np.int32(1271)], [np.int32(761), np.int32(1271)]], '1회', np.float64(0.9989421937504565)), ([[np.int32(859), np.int32(1209)], [np.int32(1247), np.int32(1209)], [np.int32(1247), np.int32(1278)], [np.int32(859), np.int32(1278)]], '1램술 (0.5mg)이다.', np.float64(0.35155754846395754)), ([[np.int32(1555), np.int32(1229)], [np.int32(2255), np.int32(1229)], [np.int32(2255), np.int32(1302)], [np.int32(1555), np.int32(1302)]], '세종특별자치시 전의면 산단길 245', np.float64(0.8803468962134167)), ([[np.int32(231), np.int32(1264)], [np.int32(1248), np.int32(1264)], [np.int32(1248), np.int32(1340)], [np.int32(231), np.int32(1340)]], '캠술 내용물에 노출시 구강 인두점막의 자극을 초래', np.float64(0.7698175981021818)), ([[np.int32(1298), np.int32(1294)], [np.int32(1741), np.int32(1294)], [np.int32(1741), np.int32(1363)], [np.int32(1298), np.int32(1363)]], '[제조자] (주)유유제약', np.float64(0.9877475724729562)), ([[np.int32(233), np.int32(1332)], [np.int32(1203), np.int32(1332)], [np.int32(1203), np.int32(1404)], [np.int32(233), np.int32(1404)]], '할 수 있으므로 이 약을 씹거나 포개지 양고 통째로', np.float64(0.3829224914006064)), ([[np.int32(1481), np.int32(1357)], [np.int32(2097), np.int32(1357)], [np.int32(2097), np.int32(1424)], [np.int32(1481), np.int32(1424)]], '충북 제천시 바이오빌리 1로 94', np.float64(0.5911377269762692))]\n"
     ]
    }
   ],
   "source": [
    "reader = easyocr.Reader(['ko', 'en'])  \n",
    "results = reader.readtext(\"C:\\Potenup\\Drug-Detection-Chatbot\\data\\medicine_00806.jpeg\")   # \"C:\\Potenup\\Drug-Detection-Chatbot\\data\\medicine_00002.jpg\"\n",
    "print(results)"
   ]
  },
  {
   "cell_type": "code",
   "execution_count": 5,
   "id": "57a82f11",
   "metadata": {},
   "outputs": [
    {
     "name": "stdout",
     "output_type": "stream",
     "text": [
      "<class 'list'>\n"
     ]
    }
   ],
   "source": [
    "print(type(results))"
   ]
  },
  {
   "cell_type": "code",
   "execution_count": 6,
   "id": "323f305c",
   "metadata": {},
   "outputs": [
    {
     "name": "stdout",
     "output_type": "stream",
     "text": [
      "43\n"
     ]
    }
   ],
   "source": [
    "print(len(results))"
   ]
  },
  {
   "cell_type": "code",
   "execution_count": 7,
   "id": "348964d5",
   "metadata": {},
   "outputs": [
    {
     "data": {
      "text/plain": [
       "([[np.int32(229), np.int32(217)],\n",
       "  [np.int32(892), np.int32(217)],\n",
       "  [np.int32(892), np.int32(289)],\n",
       "  [np.int32(229), np.int32(289)]],\n",
       " '[원료약품 및 분량] 이 약 1캠술 중',\n",
       " np.float64(0.6783161836781456))"
      ]
     },
     "execution_count": 7,
     "metadata": {},
     "output_type": "execute_result"
    }
   ],
   "source": [
    "result = results[0]\n",
    "result"
   ]
  },
  {
   "cell_type": "code",
   "execution_count": 8,
   "id": "a3ed84cd",
   "metadata": {},
   "outputs": [
    {
     "name": "stdout",
     "output_type": "stream",
     "text": [
      "<class 'tuple'>\n"
     ]
    }
   ],
   "source": [
    "print(type(result))"
   ]
  },
  {
   "cell_type": "code",
   "execution_count": 9,
   "id": "a14bdc6c",
   "metadata": {},
   "outputs": [
    {
     "name": "stdout",
     "output_type": "stream",
     "text": [
      "[원료약품 및 분량] 이 약 1캠술 중\n"
     ]
    }
   ],
   "source": [
    "text = result[1]\n",
    "print(text)"
   ]
  },
  {
   "cell_type": "code",
   "execution_count": 10,
   "id": "8481ffba",
   "metadata": {},
   "outputs": [
    {
     "name": "stdout",
     "output_type": "stream",
     "text": [
      "[원료약품 및 분량] 이 약 1캠술 중\n",
      "삼켜 복용해야 한다 이 약은 식사와 관계없이 복용할\n",
      "'유호성분: 두타스테리드(USP)\n",
      "O.5mg\n",
      "수 있다: 신장애 환자 또는 노인 환자에서 이 약의\n",
      "'철가제(동물유래성분): 질라린(기원동물: 소, 사용\n",
      "용량울 조절할 필요는 없다. 간장애 환자에게 이 약을\n",
      "부위: 가죽)\n",
      "투여한 자료가 없기 때문에 간장애 환자에서의 이\n",
      "기타철가제: 농글리세린, 부딪히드록시틀루엔, 숙\n",
      "약의 권장용량은 확립되어 있지 않다.\n",
      "신산질라린, 플리옥실40경화피마자유, 프로필렌글\n",
      "[사용상의 주의사항]\n",
      "리혼모노라우레이트, 플록사머124, D-소르비틀액\n",
      "1경고고여성에계노줄시남자태이메미치논위험성이약은\n",
      "[성상]\n",
      "피부름 통해서 음수되다 따라서 이 약의 흙수 가능성과 남자\n",
      "무색 투명한 내용물이 들어임는 미황색의 투명한\n",
      "태아에제 미치는 태자 기형의 위험 가능성 때문에 임신쾌거나\n",
      "타원형 연질캠술\n",
      "임신 가능성이 있는 여성이 이 약을 취급해서는 안 된다 또\n",
      "[효능\n",
      "효과]\n",
      "여성은 이 약을 취급할 때마다 주의해야 하고 누출되는 캠술\n",
      "양성 전립선 비대증 증상의 개선, 급성 요저류 위험성\n",
      "과의 접촉올 피해야 한다: 만약 캠술이 새어 이 약과 접촉하\n",
      "감소 양성 전립선 비대증과 관련된 수술 필요성 감소,\n",
      "경우에는 접촉부위름 즉시물과 비누로 세적해야한다\n",
      "성인 남성(만18~50세)의 남성형 탈모(androgenetic\n",
      "이하 침부문서 참조\n",
      "alopecia)의 치료\n",
      "[저장방법] 밀페용기 309C이하 보관\n",
      "[용법\n",
      "용량]\n",
      "[제조의회자] (주)제뉴원사이언스\n",
      "이 약의 권장용량은 1일\n",
      "1회\n",
      "1램술 (0.5mg)이다.\n",
      "세종특별자치시 전의면 산단길 245\n",
      "캠술 내용물에 노출시 구강 인두점막의 자극을 초래\n",
      "[제조자] (주)유유제약\n",
      "할 수 있으므로 이 약을 씹거나 포개지 양고 통째로\n",
      "충북 제천시 바이오빌리 1로 94\n"
     ]
    }
   ],
   "source": [
    "for result in results:\n",
    "    text = result[1]\n",
    "    print(text)"
   ]
  }
 ],
 "metadata": {
  "kernelspec": {
   "display_name": "Drug-Detection-Chatbot",
   "language": "python",
   "name": "python3"
  },
  "language_info": {
   "codemirror_mode": {
    "name": "ipython",
    "version": 3
   },
   "file_extension": ".py",
   "mimetype": "text/x-python",
   "name": "python",
   "nbconvert_exporter": "python",
   "pygments_lexer": "ipython3",
   "version": "3.10.18"
  }
 },
 "nbformat": 4,
 "nbformat_minor": 5
}

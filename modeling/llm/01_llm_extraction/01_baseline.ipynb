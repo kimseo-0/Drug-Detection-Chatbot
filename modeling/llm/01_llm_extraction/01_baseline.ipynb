{
 "cells": [
  {
   "cell_type": "code",
   "execution_count": 12,
   "id": "44cbb85e",
   "metadata": {},
   "outputs": [],
   "source": [
    "import json\n",
    "import ollama\n",
    "import os\n",
    "\n",
    "def texts_and_image_to_json(image_path, ordered_texts, model=\"qwen2-vl:14b\"):\n",
    "    prompt = f\"\"\"\n",
    "    아래는 OCR로 추출된 텍스트 목록입니다:\n",
    "    {ordered_texts}\n",
    "\n",
    "    위의 텍스트와 이미지({os.path.basename(image_path)})를 참고하여\n",
    "    의약품 설명서 형식의 key-value JSON을 만들어주세요.\n",
    "\n",
    "    조건:\n",
    "    1. 반드시 JSON만 출력\n",
    "    2. key는 의미 단위로 추론 (예: \"제품명\", \"성분\", \"용법\", \"보관법\")\n",
    "    3. value는 원문을 유지\n",
    "    \"\"\"\n",
    "\n",
    "    response = ollama.chat(\n",
    "        model=model,\n",
    "        messages=[\n",
    "            {\"role\": \"user\", \"content\": prompt, \"images\": [image_path]}\n",
    "        ]\n",
    "    )\n",
    "\n",
    "    try:\n",
    "        return json.loads(response[\"message\"][\"content\"])\n",
    "    except Exception as e:\n",
    "        print(\"⚠️ JSON 변환 오류:\", e)\n",
    "        return {}\n"
   ]
  }
 ],
 "metadata": {
  "kernelspec": {
   "display_name": "Drug-Detection-Chatbot",
   "language": "python",
   "name": "python3"
  },
  "language_info": {
   "codemirror_mode": {
    "name": "ipython",
    "version": 3
   },
   "file_extension": ".py",
   "mimetype": "text/x-python",
   "name": "python",
   "nbconvert_exporter": "python",
   "pygments_lexer": "ipython3",
   "version": "3.10.18"
  }
 },
 "nbformat": 4,
 "nbformat_minor": 5
}

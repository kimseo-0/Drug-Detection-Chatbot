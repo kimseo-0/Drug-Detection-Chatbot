{
 "cells": [
  {
   "cell_type": "markdown",
   "id": "0d618766",
   "metadata": {},
   "source": [
    "# OPENAI LLM Baseline Code"
   ]
  },
  {
   "cell_type": "markdown",
   "id": "528c7795",
   "metadata": {},
   "source": [
    "# 모델 불러오기"
   ]
  },
  {
   "cell_type": "code",
   "execution_count": 1,
   "id": "e2d4f4c1",
   "metadata": {},
   "outputs": [
    {
     "data": {
      "text/plain": [
       "True"
      ]
     },
     "execution_count": 1,
     "metadata": {},
     "output_type": "execute_result"
    }
   ],
   "source": [
    "from dotenv import load_dotenv \n",
    "load_dotenv()"
   ]
  },
  {
   "cell_type": "code",
   "execution_count": 2,
   "id": "0b3c2792",
   "metadata": {},
   "outputs": [],
   "source": [
    "from openai import OpenAI\n",
    "\n",
    "client = OpenAI()"
   ]
  },
  {
   "cell_type": "markdown",
   "id": "d1df3cc6",
   "metadata": {},
   "source": [
    "# 요청"
   ]
  },
  {
   "cell_type": "code",
   "execution_count": 3,
   "id": "526ced78",
   "metadata": {},
   "outputs": [],
   "source": [
    "def chat(system_prompt, user):\n",
    "    response = client.chat.completions.create(\n",
    "    model=\"gpt-4.1-nano\",\n",
    "    messages=[\n",
    "        {\n",
    "            \"role\": \"system\",\n",
    "            \"content\": system_prompt\n",
    "        },\n",
    "        {\n",
    "            \"role\": \"user\",\n",
    "            \"content\": user\n",
    "        }\n",
    "    ],\n",
    "    temperature = 0.7\n",
    "    )\n",
    "\n",
    "    answer = response.choices[0].message.content\n",
    "    return answer\n",
    "\n",
    "def chat5(system_prompt, user, verbosity = 'medium'):\n",
    "    response = client.chat.completions.create(\n",
    "    model=\"gpt-5-nano\",\n",
    "    messages=[\n",
    "        {\n",
    "            \"role\": \"system\",\n",
    "            \"content\": system_prompt\n",
    "        },\n",
    "        {\n",
    "            \"role\": \"user\",\n",
    "            \"content\": user\n",
    "        }\n",
    "    ],\n",
    "    verbosity = verbosity # low: 간결, 핵심 위주, medium: 적당한 설명과 예시, high: 자세하고 풍부한 설명\n",
    "    )\n",
    "\n",
    "    answer = response.choices[0].message.content\n",
    "    return answer"
   ]
  },
  {
   "cell_type": "code",
   "execution_count": 4,
   "id": "1c408800",
   "metadata": {},
   "outputs": [],
   "source": [
    "system_prompt = \"\"\"\n",
    "당신은 약품 성분에 대해서 잘 알고 있는 약사 AI 입니다.\n",
    "사용자가 가지고 있는 병과, 주의해야하는 알약, 주의해야하는 성분을 제공받고\n",
    "현재 사용자가 물어보는 알약을 먹어도 되는지 안되는지 판단해야합니다.\n",
    "\n",
    "[입력 정보]\n",
    "섭취 하려는 약 : 사용자가 섭취하려고 하는 약 이름\n",
    "나의 병명: 내가 가지고 있는 질병 명들\n",
    "주의 약품 : 내가 주의해야하는 약품 명들 (내가 주의해야하는 약품과 비슷한 성분이 있을 경우 미섭취 권장)\n",
    "주의 성분 : 내가 주의해야하는 성분 명등 (주의해야하는 성분이 있을 경우 미섭취 권장)\n",
    "섭취 중인 약 : 내가 섭취 중인 약\n",
    "\n",
    "[사전 정보]\n",
    "제품명명 : 게루삼정Gelusam Tab.,\n",
    "성분/함량 : \"['Calcium Carbonate P.P.T.\\u3000침강탄산칼슘\\u3000100mg','Dried Aluminum Hydroxide Gel\\u3000건조수산화알루미늄겔\\u3000200mg', 'Magnesium Carbonate\\u3000탄산마그네슘\\u300050mg', 'Sodium Bicarbonate\\u3000탄산수소나트륨\\u300050mg']\",\n",
    "성분: \"['스테아르산마그네슘', '카르복시메틸셀룰로오스칼슘']\",\n",
    "정제,흰색의 원형정제,\n",
    "\"['소화기계질환', '소화성궤양 치료제', '제산제', '흡수성', '소화기계질환', '소화성궤양 치료제', '제산제', '비흡수성', '소화기계질환', '소화성궤양 치료제', '제산제', '흡수성', '소화기계질환', '소화성궤양 치료제', '제산제', '흡수성']\",\n",
    "\"기밀용기, 실온(1~30℃)보관\",\n",
    "\"위산과다, 속쓰림, 위부불쾌감, 위부팽만감, 체함, 구역, 구토, 위통, 신트림.\",\n",
    "\"만 15세 이상 및 성인: 1회 2정, 1일 3회\",\n",
    "\"1. 다음과 같은 사람은 이 약을 복용하지 말 것. 1) 투석요법을 받고 있는 환자 2) 만 7세 이하의 어린이 2. 이 약을 복용하는 동안 다음의 약을 복용하지 말 것. 1) 테트라사이클린계 항생제 3. 다음과 같은 사람은 이 약 복용하기 전에 의사, 치과의사, 약사와 상의할 것. 1) 신장장애 2) 다른 약물을 복용하고 있는 사람 4. 다음과 같은 사람( 경우) 이 약의 복용을 즉각 중지하고 의사, 치과의사, 약사와 상의할 것. 상담시 이 첨부문서를 소지할 것. 1) 이 약을 복용하는 동안 변비 또는 설사의 증상이 나타날 경우 2) 2주정도 투여하여도 증상의 개선이 없을 경우 5. 기타 이 약의 복용시 주의할 사항 1) 정해진 용법ㆍ용량을 잘 지킬 것. 2) 어린이 투여할 경우에는 보호자의 지도 감독하에 투여할 것. 3) 나트륨 제한 식이를 하는 사람. 6. 저장상의 주의사항 1) 어린이의 손에 닿지 않는 곳에 보관할 것. 2) 직사일광을 피하고 되도록 습기가 적은 서늘한 곳에 보관할 것. 3) 오용을 막고 품질의 보존을 위하여 다른 용기에 바꾸어 넣지 말 것.\",K-000059,일반의약품,게루삼정 200T,234.0,200T,게루삼정,inf\n",
    "\n",
    "[출력 형식]\n",
    "{{\n",
    "    \"name\" : \"제품명\",\n",
    "    \"effect\" : \"이 약의 효능\",\n",
    "    \"isUsable\" : \"섭취 가능 여부를 Bool 값으로\",\n",
    "    \"unusable_reason\" : \"섭취가 불가능한 이유를 설명합니다, 섭취 가능한 경우 빈칸으로 제공합니다\",\n",
    "    \"cautionary_ingredients\" : \"섭취 불가능한 이유가 되는 주의 성분을 리스트로 제공합니다, 섭취 가능한경우 일반적인 주의사항을 제공합니다\"\n",
    "}}\n",
    "\"\"\""
   ]
  },
  {
   "cell_type": "code",
   "execution_count": 5,
   "id": "072a708f",
   "metadata": {},
   "outputs": [],
   "source": [
    "drug_name = \"게루삼정\"\n",
    "disease_names = \"\"\n",
    "cautionary_medications = \"\"\n",
    "cautionary_ingredients = \"스테아르산마그네슘\"\n",
    "taking_drug = \"\""
   ]
  },
  {
   "cell_type": "code",
   "execution_count": 6,
   "id": "3184fea8",
   "metadata": {},
   "outputs": [],
   "source": [
    "user = f\"\"\"\n",
    "섭취 하려는 약 : {drug_name}\n",
    "나의 병명: {disease_names}\n",
    "주의 약품 : {cautionary_medications}\n",
    "주의 성분 : {cautionary_ingredients}\n",
    "섭취 중인 약 : {taking_drug}\n",
    "\"\"\""
   ]
  },
  {
   "cell_type": "code",
   "execution_count": 7,
   "id": "2e96da88",
   "metadata": {},
   "outputs": [
    {
     "name": "stdout",
     "output_type": "stream",
     "text": [
      "{\n",
      "    \"name\": \"게루삼정\",\n",
      "    \"effect\": \"이 약은 소화기계 질환, 소화성 궤양 치료제, 제산제로서 위산과다, 속쓰림, 위부불쾌감, 위부팽만감, 체함, 구역, 구토, 위통, 신트림 등의 증상을 완화하는 데 사용됩니다.\",\n",
      "    \"isUsable\": true,\n",
      "    \"unusable_reason\": \"\",\n",
      "    \"cautionary_ingredients\": \"일반적인 주의사항을 참고하시기 바라며, 현재 주의 성분인 스테아르산마그네슘을 포함하고 있어 특별한 금기사항은 없습니다. 다만, 특정 성분에 과민반응이 있거나 의사의 지시 없이 복용을 중단하지 마세요.\"\n",
      "}\n"
     ]
    }
   ],
   "source": [
    "answer = chat(system_prompt, user)\n",
    "print(answer)"
   ]
  }
 ],
 "metadata": {
  "kernelspec": {
   "display_name": "Drug-Detection-Chatbot (3.10.18)",
   "language": "python",
   "name": "python3"
  },
  "language_info": {
   "codemirror_mode": {
    "name": "ipython",
    "version": 3
   },
   "file_extension": ".py",
   "mimetype": "text/x-python",
   "name": "python",
   "nbconvert_exporter": "python",
   "pygments_lexer": "ipython3",
   "version": "3.10.18"
  }
 },
 "nbformat": 4,
 "nbformat_minor": 5
}

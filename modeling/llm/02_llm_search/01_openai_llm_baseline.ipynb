{
 "cells": [
  {
   "cell_type": "markdown",
   "id": "0d618766",
   "metadata": {},
   "source": [
    "# OPENAI LLM Baseline Code"
   ]
  },
  {
   "cell_type": "code",
   "execution_count": 1,
   "id": "67ac676a",
   "metadata": {},
   "outputs": [
    {
     "data": {
      "text/plain": [
       "WindowsPath('C:/Potenup/Drug-Detection-Chatbot')"
      ]
     },
     "execution_count": 1,
     "metadata": {},
     "output_type": "execute_result"
    }
   ],
   "source": [
    "# put this at the top of your script/module\n",
    "from pathlib import Path\n",
    "import sys\n",
    "\n",
    "def add_root_for_utils(max_up=8, utils_dir_name=\"utils\"):\n",
    "    try:\n",
    "        start = Path(__file__).resolve().parent   # 일반 .py 파일\n",
    "    except NameError:\n",
    "        start = Path.cwd().resolve()              # Jupyter/REPL 등\n",
    "\n",
    "    p = start\n",
    "    for _ in range(max_up + 1):\n",
    "        if (p / utils_dir_name).is_dir():\n",
    "            root = str(p)\n",
    "            if root not in sys.path:\n",
    "                sys.path.insert(0, root)\n",
    "            return p\n",
    "        if p.parent == p:\n",
    "            break\n",
    "        p = p.parent\n",
    "\n",
    "    raise RuntimeError(f\"상위 {max_up}단계 내에서 '{utils_dir_name}' 폴더를 찾지 못했어요.\")\n",
    "\n",
    "# 실행\n",
    "add_root_for_utils(max_up=8)\n"
   ]
  },
  {
   "cell_type": "code",
   "execution_count": 2,
   "id": "281a4bd5",
   "metadata": {},
   "outputs": [],
   "source": [
    "from utils.llm_openai import chat, chat5"
   ]
  },
  {
   "cell_type": "markdown",
   "id": "805f25fb",
   "metadata": {},
   "source": [
    "# 데이터 불러오기"
   ]
  },
  {
   "cell_type": "code",
   "execution_count": 3,
   "id": "cb11341a",
   "metadata": {},
   "outputs": [],
   "source": [
    "import pandas as pd\n",
    "\n",
    "df = pd.read_csv(\"C:\\Potenup\\Drug-Detection-Chatbot\\data\\\\total_result_drug.csv\")"
   ]
  },
  {
   "cell_type": "code",
   "execution_count": 4,
   "id": "3c148550",
   "metadata": {},
   "outputs": [
    {
     "data": {
      "text/html": [
       "<div>\n",
       "<style scoped>\n",
       "    .dataframe tbody tr th:only-of-type {\n",
       "        vertical-align: middle;\n",
       "    }\n",
       "\n",
       "    .dataframe tbody tr th {\n",
       "        vertical-align: top;\n",
       "    }\n",
       "\n",
       "    .dataframe thead th {\n",
       "        text-align: right;\n",
       "    }\n",
       "</style>\n",
       "<table border=\"1\" class=\"dataframe\">\n",
       "  <thead>\n",
       "    <tr style=\"text-align: right;\">\n",
       "      <th></th>\n",
       "      <th>C-Code</th>\n",
       "      <th>구분</th>\n",
       "      <th>제품명</th>\n",
       "      <th>복지부분류코드</th>\n",
       "      <th>volume</th>\n",
       "      <th>name</th>\n",
       "      <th>vol_value</th>\n",
       "      <th>vol_unit</th>\n",
       "      <th>성분/함량</th>\n",
       "      <th>첨가물</th>\n",
       "      <th>제형</th>\n",
       "      <th>성상</th>\n",
       "      <th>KPIC/ATC</th>\n",
       "      <th>구분(전문/일반)</th>\n",
       "      <th>효능</th>\n",
       "      <th>용법</th>\n",
       "      <th>주의사항</th>\n",
       "      <th>저장방법</th>\n",
       "      <th>name_ko</th>\n",
       "      <th>name_en</th>\n",
       "    </tr>\n",
       "  </thead>\n",
       "  <tbody>\n",
       "    <tr>\n",
       "      <th>0</th>\n",
       "      <td>K-000059</td>\n",
       "      <td>일반의약품</td>\n",
       "      <td>게루삼정 200T</td>\n",
       "      <td>234.0</td>\n",
       "      <td>200T</td>\n",
       "      <td>게루삼정</td>\n",
       "      <td>200.0</td>\n",
       "      <td>T</td>\n",
       "      <td>['Calcium Carbonate P.P.T. 침강탄산칼슘 100mg', 'Dri...</td>\n",
       "      <td>['스테아르산마그네슘', '카르복시메틸셀룰로오스칼슘']</td>\n",
       "      <td>정제</td>\n",
       "      <td>흰색의 원형정제 백색의 원형 정제</td>\n",
       "      <td>['소화기계질환', '소화성궤양 치료제', '제산제', '흡수성', '비흡수성', ...</td>\n",
       "      <td>일반</td>\n",
       "      <td>위산과다, 속쓰림, 위부불쾌감, 위부팽만감, 체함, 구역, 구토, 위통, 신트림.</td>\n",
       "      <td>만 15세 이상 및 성인: 1회 2정, 1일 3회 만 15세 이상 및 성인: 1회 ...</td>\n",
       "      <td>1. 다음과 같은 사람은 이 약을 복용하지 말 것. 1) 투석요법을 받고 있는 환자...</td>\n",
       "      <td>기밀용기, 실온(1~30℃)보관</td>\n",
       "      <td>게루삼정</td>\n",
       "      <td>Gelusam Tab</td>\n",
       "    </tr>\n",
       "  </tbody>\n",
       "</table>\n",
       "</div>"
      ],
      "text/plain": [
       "     C-Code     구분        제품명  복지부분류코드 volume  name  vol_value vol_unit  \\\n",
       "0  K-000059  일반의약품  게루삼정 200T    234.0   200T  게루삼정      200.0        T   \n",
       "\n",
       "                                               성분/함량  \\\n",
       "0  ['Calcium Carbonate P.P.T. 침강탄산칼슘 100mg', 'Dri...   \n",
       "\n",
       "                              첨가물  제형                  성상  \\\n",
       "0  ['스테아르산마그네슘', '카르복시메틸셀룰로오스칼슘']  정제  흰색의 원형정제 백색의 원형 정제   \n",
       "\n",
       "                                            KPIC/ATC 구분(전문/일반)  \\\n",
       "0  ['소화기계질환', '소화성궤양 치료제', '제산제', '흡수성', '비흡수성', ...        일반   \n",
       "\n",
       "                                              효능  \\\n",
       "0  위산과다, 속쓰림, 위부불쾌감, 위부팽만감, 체함, 구역, 구토, 위통, 신트림.   \n",
       "\n",
       "                                                  용법  \\\n",
       "0  만 15세 이상 및 성인: 1회 2정, 1일 3회 만 15세 이상 및 성인: 1회 ...   \n",
       "\n",
       "                                                주의사항               저장방법  \\\n",
       "0  1. 다음과 같은 사람은 이 약을 복용하지 말 것. 1) 투석요법을 받고 있는 환자...  기밀용기, 실온(1~30℃)보관   \n",
       "\n",
       "  name_ko      name_en  \n",
       "0    게루삼정  Gelusam Tab  "
      ]
     },
     "execution_count": 4,
     "metadata": {},
     "output_type": "execute_result"
    }
   ],
   "source": [
    "df.head(1)"
   ]
  },
  {
   "cell_type": "code",
   "execution_count": null,
   "id": "40121d2e",
   "metadata": {},
   "outputs": [
    {
     "data": {
      "text/plain": [
       "111      타이레놀정500mg(성인용)\n",
       "112        어린이용타이레놀정80mg\n",
       "125           타이레놀정160mg\n",
       "143    타이레놀8시간이알서방정650mg\n",
       "315    우먼스타이레놀정500mg 10T\n",
       "352        타이레놀콜드에스정 10T\n",
       "Name: 제품명, dtype: object"
      ]
     },
     "execution_count": 51,
     "metadata": {},
     "output_type": "execute_result"
    }
   ],
   "source": [
    "df[df['제품명'].str.contains(\"타이레놀\", na=False, regex=False)]['제품명']"
   ]
  },
  {
   "cell_type": "code",
   "execution_count": 44,
   "id": "c4286849",
   "metadata": {},
   "outputs": [],
   "source": [
    "data = \"\"\n",
    "for i, row in list(df.iterrows()):\n",
    "    data += f\"({str(i)}, {row['제품명']})\""
   ]
  },
  {
   "cell_type": "markdown",
   "id": "61c756cd",
   "metadata": {},
   "source": [
    "# 모델 예측하기"
   ]
  },
  {
   "cell_type": "code",
   "execution_count": 64,
   "id": "d5fa9589",
   "metadata": {},
   "outputs": [],
   "source": [
    "system_prompt = f\"\"\"\n",
    "당신은 약 정보에 대한 CSV 데이터를 가지고 해당 데이터에서 검색을 하는 AI 입니다.\n",
    "알약에 대해서 키워드 검색을 하면 해당 알약과 관련된 모든 알약의 index 값을 찾는 것이 목표입니다.\n",
    "제품명에 해당 키워드를 포함하거나, 비슷한 경우 모두 index를 포함합니다.\n",
    "[사용자 입력]\n",
    "알약에 대한 키워드 검색\n",
    "\n",
    "[사전 정보]\n",
    "{data}\n",
    "\n",
    "[출력 형식]\n",
    "해당 제품명에 해당하는 제품 인덱스 리스트 ex) [0, 2],\n",
    "\"\"\""
   ]
  },
  {
   "cell_type": "code",
   "execution_count": 46,
   "id": "3184fea8",
   "metadata": {},
   "outputs": [],
   "source": [
    "user = f\"\"\"\n",
    "타이레놀\n",
    "\"\"\""
   ]
  },
  {
   "cell_type": "code",
   "execution_count": 65,
   "id": "2e96da88",
   "metadata": {},
   "outputs": [
    {
     "name": "stdout",
     "output_type": "stream",
     "text": [
      "[111, 125]\n"
     ]
    }
   ],
   "source": [
    "answer = chat(system_prompt, user)\n",
    "print(answer)"
   ]
  },
  {
   "cell_type": "markdown",
   "id": "fba07271",
   "metadata": {},
   "source": [
    "# 결과"
   ]
  },
  {
   "cell_type": "code",
   "execution_count": 72,
   "id": "c85487a5",
   "metadata": {},
   "outputs": [],
   "source": [
    "import json\n",
    "answer_parser = json.loads(answer)"
   ]
  },
  {
   "cell_type": "code",
   "execution_count": 74,
   "id": "56b0eb3f",
   "metadata": {},
   "outputs": [],
   "source": [
    "data = []\n",
    "for index in answer_parser:\n",
    "    data.append(df.iloc[index])"
   ]
  },
  {
   "cell_type": "code",
   "execution_count": 78,
   "id": "44a70239",
   "metadata": {},
   "outputs": [
    {
     "data": {
      "text/html": [
       "<div>\n",
       "<style scoped>\n",
       "    .dataframe tbody tr th:only-of-type {\n",
       "        vertical-align: middle;\n",
       "    }\n",
       "\n",
       "    .dataframe tbody tr th {\n",
       "        vertical-align: top;\n",
       "    }\n",
       "\n",
       "    .dataframe thead th {\n",
       "        text-align: right;\n",
       "    }\n",
       "</style>\n",
       "<table border=\"1\" class=\"dataframe\">\n",
       "  <thead>\n",
       "    <tr style=\"text-align: right;\">\n",
       "      <th></th>\n",
       "      <th>C-Code</th>\n",
       "      <th>구분</th>\n",
       "      <th>제품명</th>\n",
       "      <th>복지부분류코드</th>\n",
       "      <th>volume</th>\n",
       "      <th>name</th>\n",
       "      <th>vol_value</th>\n",
       "      <th>vol_unit</th>\n",
       "      <th>성분/함량</th>\n",
       "      <th>첨가물</th>\n",
       "      <th>제형</th>\n",
       "      <th>성상</th>\n",
       "      <th>KPIC/ATC</th>\n",
       "      <th>구분(전문/일반)</th>\n",
       "      <th>효능</th>\n",
       "      <th>용법</th>\n",
       "      <th>주의사항</th>\n",
       "      <th>저장방법</th>\n",
       "      <th>name_ko</th>\n",
       "      <th>name_en</th>\n",
       "    </tr>\n",
       "  </thead>\n",
       "  <tbody>\n",
       "    <tr>\n",
       "      <th>111</th>\n",
       "      <td>K-004378</td>\n",
       "      <td>일반의약품</td>\n",
       "      <td>타이레놀정500mg(성인용)</td>\n",
       "      <td>114.0</td>\n",
       "      <td>500mg</td>\n",
       "      <td>타이레놀정</td>\n",
       "      <td>500.0</td>\n",
       "      <td>mg</td>\n",
       "      <td>['Acetaminophen 아세트아미노펜 500mg']</td>\n",
       "      <td>['분말셀룰로오스', '스테아르산마그네슘', '오파드라이흰색(YS-1-7027)',...</td>\n",
       "      <td>정제</td>\n",
       "      <td>흰색의 장방형 필름코팅정제</td>\n",
       "      <td>['통증 질환', '비마약성 진통제', '중추성 진통제', 'p-aminopheno...</td>\n",
       "      <td>일반</td>\n",
       "      <td>1. 주효능·효과 1. 주효능·효과 감기로 인한 발열 및 동통(통증), 두통, 신경...</td>\n",
       "      <td>만 12세 이상 소아 및 성인: 만 12세 이상 소아 및 성인: 1회 1~2정씩 1...</td>\n",
       "      <td>1. 경고 1) 매일 세잔 이상 정기적으로 술을 마시는 사람이 이 약이나 다른 해열...</td>\n",
       "      <td>밀폐용기, 실온보관(1-30℃)</td>\n",
       "      <td>타이레놀정</td>\n",
       "      <td>mg Tylenol Tab</td>\n",
       "    </tr>\n",
       "    <tr>\n",
       "      <th>125</th>\n",
       "      <td>K-004799</td>\n",
       "      <td>일반의약품</td>\n",
       "      <td>타이레놀정160mg</td>\n",
       "      <td>114.0</td>\n",
       "      <td>160mg</td>\n",
       "      <td>타이레놀정</td>\n",
       "      <td>160.0</td>\n",
       "      <td>mg</td>\n",
       "      <td>['Acetaminophen 아세트아미노펜 500mg']</td>\n",
       "      <td>['분말셀룰로오스', '스테아르산마그네슘', '오파드라이흰색(YS-1-7027)',...</td>\n",
       "      <td>정제</td>\n",
       "      <td>흰색의 장방형 필름코팅정제</td>\n",
       "      <td>['통증 질환', '비마약성 진통제', '중추성 진통제', 'p-aminopheno...</td>\n",
       "      <td>일반</td>\n",
       "      <td>1. 주효능·효과 1. 주효능·효과 감기로 인한 발열 및 동통(통증), 두통, 신경...</td>\n",
       "      <td>만 12세 이상 소아 및 성인: 만 12세 이상 소아 및 성인: 1회 1~2정씩 1...</td>\n",
       "      <td>1. 경고 1) 매일 세잔 이상 정기적으로 술을 마시는 사람이 이 약이나 다른 해열...</td>\n",
       "      <td>밀폐용기, 실온보관(1-30℃)</td>\n",
       "      <td>타이레놀정</td>\n",
       "      <td>mg Tylenol Tab</td>\n",
       "    </tr>\n",
       "  </tbody>\n",
       "</table>\n",
       "</div>"
      ],
      "text/plain": [
       "       C-Code     구분              제품명  복지부분류코드 volume   name  vol_value  \\\n",
       "111  K-004378  일반의약품  타이레놀정500mg(성인용)    114.0  500mg  타이레놀정      500.0   \n",
       "125  K-004799  일반의약품       타이레놀정160mg    114.0  160mg  타이레놀정      160.0   \n",
       "\n",
       "    vol_unit                            성분/함량  \\\n",
       "111       mg  ['Acetaminophen 아세트아미노펜 500mg']   \n",
       "125       mg  ['Acetaminophen 아세트아미노펜 500mg']   \n",
       "\n",
       "                                                   첨가물  제형              성상  \\\n",
       "111  ['분말셀룰로오스', '스테아르산마그네슘', '오파드라이흰색(YS-1-7027)',...  정제  흰색의 장방형 필름코팅정제   \n",
       "125  ['분말셀룰로오스', '스테아르산마그네슘', '오파드라이흰색(YS-1-7027)',...  정제  흰색의 장방형 필름코팅정제   \n",
       "\n",
       "                                              KPIC/ATC 구분(전문/일반)  \\\n",
       "111  ['통증 질환', '비마약성 진통제', '중추성 진통제', 'p-aminopheno...        일반   \n",
       "125  ['통증 질환', '비마약성 진통제', '중추성 진통제', 'p-aminopheno...        일반   \n",
       "\n",
       "                                                    효능  \\\n",
       "111  1. 주효능·효과 1. 주효능·효과 감기로 인한 발열 및 동통(통증), 두통, 신경...   \n",
       "125  1. 주효능·효과 1. 주효능·효과 감기로 인한 발열 및 동통(통증), 두통, 신경...   \n",
       "\n",
       "                                                    용법  \\\n",
       "111  만 12세 이상 소아 및 성인: 만 12세 이상 소아 및 성인: 1회 1~2정씩 1...   \n",
       "125  만 12세 이상 소아 및 성인: 만 12세 이상 소아 및 성인: 1회 1~2정씩 1...   \n",
       "\n",
       "                                                  주의사항               저장방법  \\\n",
       "111  1. 경고 1) 매일 세잔 이상 정기적으로 술을 마시는 사람이 이 약이나 다른 해열...  밀폐용기, 실온보관(1-30℃)   \n",
       "125  1. 경고 1) 매일 세잔 이상 정기적으로 술을 마시는 사람이 이 약이나 다른 해열...  밀폐용기, 실온보관(1-30℃)   \n",
       "\n",
       "    name_ko         name_en  \n",
       "111   타이레놀정  mg Tylenol Tab  \n",
       "125   타이레놀정  mg Tylenol Tab  "
      ]
     },
     "execution_count": 78,
     "metadata": {},
     "output_type": "execute_result"
    }
   ],
   "source": [
    "result_df = pd.DataFrame(data)\n",
    "result_df"
   ]
  }
 ],
 "metadata": {
  "kernelspec": {
   "display_name": "Drug-Detection-Chatbot (3.10.18)",
   "language": "python",
   "name": "python3"
  },
  "language_info": {
   "codemirror_mode": {
    "name": "ipython",
    "version": 3
   },
   "file_extension": ".py",
   "mimetype": "text/x-python",
   "name": "python",
   "nbconvert_exporter": "python",
   "pygments_lexer": "ipython3",
   "version": "3.10.18"
  }
 },
 "nbformat": 4,
 "nbformat_minor": 5
}

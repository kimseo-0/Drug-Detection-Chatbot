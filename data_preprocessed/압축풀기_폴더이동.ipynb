{
 "cells": [
  {
   "cell_type": "code",
   "execution_count": 1,
   "id": "00120823",
   "metadata": {},
   "outputs": [
    {
     "name": "stdout",
     "output_type": "stream",
     "text": [
      "압축 해제 완료: C:\\project\\AI__HUB\\166.약품식별 인공지능 개발을 위한 경구약제 이미지 데이터\\01.데이터\\1.Training\\원천데이터\\단일경구약제 5000종\\TS_36_단일.zip → C:\\project\\AI__HUB\\166.약품식별 인공지능 개발을 위한 경구약제 이미지 데이터\\01.데이터\\1.Training\\원천데이터\\단일경구약제 5000종\\TS_36_단일\n"
     ]
    }
   ],
   "source": [
    "import zipfile\n",
    "import os\n",
    "\n",
    "def unzip_all_zips(input_dir: str, output_dir: str):\n",
    "    os.makedirs(output_dir, exist_ok=True)\n",
    "\n",
    "    for filename in os.listdir(input_dir):\n",
    "        if filename.lower().endswith(\".zip\"):\n",
    "            zip_path = os.path.join(input_dir, filename)\n",
    "\n",
    "            # 압축파일명(확장자 제거)으로 하위 폴더 생성\n",
    "            extract_folder = os.path.join(output_dir, os.path.splitext(filename)[0])\n",
    "            os.makedirs(extract_folder, exist_ok=True)\n",
    "\n",
    "            # 압축 풀기\n",
    "            with zipfile.ZipFile(zip_path, \"r\") as zip_ref:\n",
    "                zip_ref.extractall(extract_folder)\n",
    "\n",
    "            print(f\"압축 해제 완료: {zip_path} → {extract_folder}\")\n",
    "\n",
    "input_dir = \"C:\\project\\AI__HUB\\\\166.약품식별 인공지능 개발을 위한 경구약제 이미지 데이터\\\\01.데이터\\\\1.Training\\원천데이터\\단일경구약제 5000종\"\n",
    "output_dir = \"C:\\project\\AI__HUB\\\\166.약품식별 인공지능 개발을 위한 경구약제 이미지 데이터\\\\01.데이터\\\\1.Training\\원천데이터\\단일경구약제 5000종\"\n",
    "\n",
    "unzip_all_zips(input_dir, output_dir)"
   ]
  },
  {
   "cell_type": "code",
   "execution_count": null,
   "id": "fd85997c",
   "metadata": {},
   "outputs": [
    {
     "name": "stdout",
     "output_type": "stream",
     "text": [
      "Moving: C:\\project\\AI__HUB\\166.약품식별 인공지능 개발을 위한 경구약제 이미지 데이터\\01.데이터\\1.Training\\원천데이터\\단일경구약제 5000종\\TS_36_단일\\K-011701 -> C:\\project\\AI__HUB\\K-011701\n"
     ]
    }
   ],
   "source": [
    "import os\n",
    "import shutil\n",
    "\n",
    "def move_selected_folders(input_dir: str, output_dir: str, folder_list: list[str]):\n",
    "    if not os.path.exists(output_dir):\n",
    "        os.makedirs(output_dir)\n",
    "\n",
    "    for folder_name in folder_list:\n",
    "        src_path = os.path.join(input_dir, folder_name)\n",
    "        dst_path = os.path.join(output_dir, folder_name)\n",
    "\n",
    "        if os.path.exists(src_path) and os.path.isdir(src_path):\n",
    "            print(f\"Moving: {src_path} -> {dst_path}\")\n",
    "            shutil.move(src_path, dst_path)\n",
    "        else:\n",
    "            print(f\"Skip (not found): {src_path}\")\n",
    "\n",
    "input_dir =  \"C:\\project\\AI__HUB\\\\166.약품식별 인공지능 개발을 위한 경구약제 이미지 데이터\\\\01.데이터\\\\1.Training\\원천데이터\\단일경구약제 5000종\\TS_36_단일\"\n",
    "output_dir = \"C:\\project\\AI__HUB\"\n",
    "folders_to_move = [\"K-011701\"]     # 해당 폴더만 이동\n",
    "\n",
    "move_selected_folders(input_dir, output_dir, folders_to_move)"
   ]
  }
 ],
 "metadata": {
  "kernelspec": {
   "display_name": "Drug-Detection-Chatbot",
   "language": "python",
   "name": "python3"
  },
  "language_info": {
   "codemirror_mode": {
    "name": "ipython",
    "version": 3
   },
   "file_extension": ".py",
   "mimetype": "text/x-python",
   "name": "python",
   "nbconvert_exporter": "python",
   "pygments_lexer": "ipython3",
   "version": "3.10.18"
  }
 },
 "nbformat": 4,
 "nbformat_minor": 5
}
